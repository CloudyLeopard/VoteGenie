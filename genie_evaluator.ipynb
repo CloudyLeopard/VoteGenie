{
 "cells": [
  {
   "cell_type": "code",
   "execution_count": 1,
   "metadata": {},
   "outputs": [],
   "source": [
    "import pandas as pd\n",
    "import os\n",
    "os.environ[\"OPENAI_API_KEY\"] = os.getenv(\"OPENAI_API_KEY\")"
   ]
  },
  {
   "cell_type": "code",
   "execution_count": 2,
   "metadata": {},
   "outputs": [
    {
     "data": {
      "text/html": [
       "<div>\n",
       "<style scoped>\n",
       "    .dataframe tbody tr th:only-of-type {\n",
       "        vertical-align: middle;\n",
       "    }\n",
       "\n",
       "    .dataframe tbody tr th {\n",
       "        vertical-align: top;\n",
       "    }\n",
       "\n",
       "    .dataframe thead th {\n",
       "        text-align: right;\n",
       "    }\n",
       "</style>\n",
       "<table border=\"1\" class=\"dataframe\">\n",
       "  <thead>\n",
       "    <tr style=\"text-align: right;\">\n",
       "      <th></th>\n",
       "      <th>name</th>\n",
       "      <th>category</th>\n",
       "      <th>title</th>\n",
       "      <th>question</th>\n",
       "      <th>ground_truths</th>\n",
       "      <th>reference</th>\n",
       "    </tr>\n",
       "  </thead>\n",
       "  <tbody>\n",
       "    <tr>\n",
       "      <th>0</th>\n",
       "      <td>Joe Biden</td>\n",
       "      <td>Social Issues</td>\n",
       "      <td>Abortion</td>\n",
       "      <td>Do you support women's right to abortion?</td>\n",
       "      <td>[Yes, support women's right to abortion]</td>\n",
       "      <td>NaN</td>\n",
       "    </tr>\n",
       "    <tr>\n",
       "      <th>1</th>\n",
       "      <td>Joe Biden</td>\n",
       "      <td>Domestic Policy Issues</td>\n",
       "      <td>Drug Policy</td>\n",
       "      <td>Are you in favor of decriminalizing drug use?</td>\n",
       "      <td>[Yes, in favor of decriminalizing drug use]</td>\n",
       "      <td>https://www.whitehouse.gov/briefing-room/state...</td>\n",
       "    </tr>\n",
       "  </tbody>\n",
       "</table>\n",
       "</div>"
      ],
      "text/plain": [
       "        name                category        title  \\\n",
       "0  Joe Biden           Social Issues     Abortion   \n",
       "1  Joe Biden  Domestic Policy Issues  Drug Policy   \n",
       "\n",
       "                                        question  \\\n",
       "0      Do you support women's right to abortion?   \n",
       "1  Are you in favor of decriminalizing drug use?   \n",
       "\n",
       "                                 ground_truths  \\\n",
       "0     [Yes, support women's right to abortion]   \n",
       "1  [Yes, in favor of decriminalizing drug use]   \n",
       "\n",
       "                                           reference  \n",
       "0                                                NaN  \n",
       "1  https://www.whitehouse.gov/briefing-room/state...  "
      ]
     },
     "execution_count": 2,
     "metadata": {},
     "output_type": "execute_result"
    }
   ],
   "source": [
    "evaluation_file = \"../verified_data_sample_01_20_2024.xlsx\"\n",
    "# evaluation_file = \"../verified_data_01_15_2024.xlsx\"\n",
    "df = pd.read_excel(evaluation_file)\n",
    "df['ground_truths']=df['ground_truths'].apply(lambda x: [x])\n",
    "df.head(2)"
   ]
  },
  {
   "cell_type": "code",
   "execution_count": 3,
   "metadata": {},
   "outputs": [
    {
     "name": "stdout",
     "output_type": "stream",
     "text": [
      "Genie Master initialized at: 2024-01-22 02:33:05.896532-05:00\n",
      "Genie is ready... True\n",
      "Document collection count... 45990\n",
      "\n",
      "Genie's standard prompt template:\n",
      "\u001b[1mSystem Message:\u001b[0m You will be provided with different pieces of context delimited by triple quotes and a question. The context are either statements made by the person of interest, or statements describing the person of interest. Your task is to answer the question using only the provided context, then support the answer with evidence and reasoning. If the document does not contain the information needed to answer this question, simply write “unknown”.\n",
      "\n",
      "\u001b[1mHuman Message:\u001b[0m \n",
      "\"\"\"\n",
      "\u001b[4mcontext\u001b[0m\n",
      "\"\"\"\n",
      "\n",
      "Question: For \u001b[4mname\u001b[0m, \u001b[4mquestion?\u001b[0m\n",
      "\n",
      "The output should be formatted as a JSON instance that conforms to the JSON schema below.\n",
      "\n",
      "As an example, for the schema {\"properties\": {\"foo\": {\"title\": \"Foo\", \"description\": \"a list of strings\", \"type\": \"array\", \"items\": {\"type\": \"string\"}}}, \"required\": [\"foo\"]}\n",
      "the object {\"foo\": [\"bar\", \"baz\"]} is a well-formatted instance of the schema. The object {\"properties\": {\"foo\": [\"bar\", \"baz\"]}} is not well-formatted.\n",
      "\n",
      "Here is the output schema:\n",
      "```\n",
      "{\"properties\": {\"answer\": {\"title\": \"Answer\", \"description\": \"The response to the question. Accepted values are: yes, no, unknown\", \"type\": \"string\"}, \"reasoning\": {\"title\": \"Reasoning\", \"description\": \"The reasoning behind the response\", \"type\": \"string\"}, \"evidence\": {\"title\": \"Evidence\", \"description\": \"List all segments of the context that supports the answer. Leave the list empty if answer is unknown\", \"type\": \"array\", \"items\": {\"type\": \"string\"}}}, \"required\": [\"answer\", \"reasoning\", \"evidence\"]}\n",
      "```\n",
      "\n"
     ]
    }
   ],
   "source": [
    "from genie_master import GenieMaster\n",
    "\n",
    "genie_db_path = \"./chroma_qadata_db/\"\n",
    "gm = GenieMaster(db_path=genie_db_path)\n",
    "print(\"Genie is ready...\", gm.model_is_ready())\n",
    "print(\"Document collection count...\", gm._document_count())\n",
    "\n",
    "genie=gm.get_genie(\"\\033[4mname\\033[0m\")\n",
    "prompt_template = genie.get_prompt_template()\n",
    "prompt = prompt_template.format_messages(context=\"\\033[4mcontext\\033[0m\", question=\"\\033[4mquestion?\\033[0m\")\n",
    "print(\"\\nGenie's standard prompt template:\")\n",
    "print(f'\\033[1mSystem Message:\\033[0m {prompt[0].content}')\n",
    "print(f'\\033[1mHuman Message:\\033[0m {prompt[1].content}')"
   ]
  },
  {
   "cell_type": "code",
   "execution_count": 4,
   "metadata": {},
   "outputs": [
    {
     "data": {
      "text/html": [
       "<div>\n",
       "<style scoped>\n",
       "    .dataframe tbody tr th:only-of-type {\n",
       "        vertical-align: middle;\n",
       "    }\n",
       "\n",
       "    .dataframe tbody tr th {\n",
       "        vertical-align: top;\n",
       "    }\n",
       "\n",
       "    .dataframe thead th {\n",
       "        text-align: right;\n",
       "    }\n",
       "</style>\n",
       "<table border=\"1\" class=\"dataframe\">\n",
       "  <thead>\n",
       "    <tr style=\"text-align: right;\">\n",
       "      <th></th>\n",
       "      <th>name</th>\n",
       "      <th>question</th>\n",
       "      <th>ground_truths</th>\n",
       "    </tr>\n",
       "  </thead>\n",
       "  <tbody>\n",
       "    <tr>\n",
       "      <th>10</th>\n",
       "      <td>Joe Biden</td>\n",
       "      <td>Do you support qualified immunity for police o...</td>\n",
       "      <td>[Yes, support qualified immunity for police of...</td>\n",
       "    </tr>\n",
       "    <tr>\n",
       "      <th>1</th>\n",
       "      <td>Joe Biden</td>\n",
       "      <td>Are you in favor of decriminalizing drug use?</td>\n",
       "      <td>[Yes, in favor of decriminalizing drug use]</td>\n",
       "    </tr>\n",
       "    <tr>\n",
       "      <th>9</th>\n",
       "      <td>Joe Biden</td>\n",
       "      <td>Should the government increase environmental r...</td>\n",
       "      <td>[Yes, the government should increase environme...</td>\n",
       "    </tr>\n",
       "  </tbody>\n",
       "</table>\n",
       "</div>"
      ],
      "text/plain": [
       "         name                                           question  \\\n",
       "10  Joe Biden  Do you support qualified immunity for police o...   \n",
       "1   Joe Biden      Are you in favor of decriminalizing drug use?   \n",
       "9   Joe Biden  Should the government increase environmental r...   \n",
       "\n",
       "                                        ground_truths  \n",
       "10  [Yes, support qualified immunity for police of...  \n",
       "1         [Yes, in favor of decriminalizing drug use]  \n",
       "9   [Yes, the government should increase environme...  "
      ]
     },
     "execution_count": 4,
     "metadata": {},
     "output_type": "execute_result"
    }
   ],
   "source": [
    "sample_number = 10\n",
    "df_data = df[['name', 'question', 'ground_truths']].sample(sample_number)\n",
    "df_data.head(3)"
   ]
  },
  {
   "cell_type": "code",
   "execution_count": 5,
   "metadata": {},
   "outputs": [
    {
     "name": "stdout",
     "output_type": "stream",
     "text": [
      "\u001b[1mEvaluating <Genie name=Joe Biden model=gpt-3.5-turbo-1106> \u001b[0m\n",
      "Getting LLM response...\n",
      "evaluating with [faithfulness]\n"
     ]
    },
    {
     "name": "stderr",
     "output_type": "stream",
     "text": [
      "100%|██████████| 1/1 [00:17<00:00, 17.10s/it]\n"
     ]
    },
    {
     "name": "stdout",
     "output_type": "stream",
     "text": [
      "evaluating with [answer_relevancy]\n"
     ]
    },
    {
     "name": "stderr",
     "output_type": "stream",
     "text": [
      "100%|██████████| 1/1 [00:06<00:00,  6.02s/it]\n"
     ]
    },
    {
     "name": "stdout",
     "output_type": "stream",
     "text": [
      "evaluating with [context_relevancy]\n"
     ]
    },
    {
     "name": "stderr",
     "output_type": "stream",
     "text": [
      "100%|██████████| 1/1 [00:05<00:00,  5.92s/it]\n"
     ]
    },
    {
     "name": "stdout",
     "output_type": "stream",
     "text": [
      "evaluating with [context_recall]\n"
     ]
    },
    {
     "name": "stderr",
     "output_type": "stream",
     "text": [
      "100%|██████████| 1/1 [00:21<00:00, 21.58s/it]\n"
     ]
    },
    {
     "name": "stdout",
     "output_type": "stream",
     "text": [
      "evaluating with [answer_correctness]\n"
     ]
    },
    {
     "name": "stderr",
     "output_type": "stream",
     "text": [
      "100%|██████████| 1/1 [00:13<00:00, 13.62s/it]\n"
     ]
    },
    {
     "name": "stdout",
     "output_type": "stream",
     "text": [
      "\n",
      "faithfulness: 0.6466666666666667\n",
      "answer_relevancy: 0.7001581060361219\n",
      "context_relevancy: 0.14924730125968516\n",
      "context_recall: 0.6177777777777778\n",
      "answer_correctness: 0.5985129633356373\n"
     ]
    }
   ],
   "source": [
    "df_eval = gm.evaluate(df_data)\n",
    "\n",
    "eval_result = dict()\n",
    "df_scores = df_eval.drop(\n",
    "    columns=[\"name\", \"question\", \"answer\", \"contexts\", \"ground_truths\"]\n",
    ")\n",
    "\n",
    "for metric in df_scores.columns:\n",
    "    eval_result[metric] = df_scores[metric].sum() / df_scores.shape[0]\n",
    "\n",
    "print('')\n",
    "for metric, score in eval_result.items():\n",
    "    print(f\"{metric}: {score}\")"
   ]
  },
  {
   "cell_type": "code",
   "execution_count": 6,
   "metadata": {},
   "outputs": [
    {
     "data": {
      "text/html": [
       "<div>\n",
       "<style scoped>\n",
       "    .dataframe tbody tr th:only-of-type {\n",
       "        vertical-align: middle;\n",
       "    }\n",
       "\n",
       "    .dataframe tbody tr th {\n",
       "        vertical-align: top;\n",
       "    }\n",
       "\n",
       "    .dataframe thead th {\n",
       "        text-align: right;\n",
       "    }\n",
       "</style>\n",
       "<table border=\"1\" class=\"dataframe\">\n",
       "  <thead>\n",
       "    <tr style=\"text-align: right;\">\n",
       "      <th></th>\n",
       "      <th>name</th>\n",
       "      <th>question</th>\n",
       "      <th>answer</th>\n",
       "      <th>contexts</th>\n",
       "      <th>ground_truths</th>\n",
       "      <th>faithfulness</th>\n",
       "      <th>answer_relevancy</th>\n",
       "      <th>context_relevancy</th>\n",
       "      <th>context_recall</th>\n",
       "      <th>answer_correctness</th>\n",
       "    </tr>\n",
       "  </thead>\n",
       "  <tbody>\n",
       "    <tr>\n",
       "      <th>0</th>\n",
       "      <td></td>\n",
       "      <td>Do you support qualified immunity for police o...</td>\n",
       "      <td>{\"answer\": \"unknown\", \"reasoning\": \"The provid...</td>\n",
       "      <td>[When a police officer pins on that shield and...</td>\n",
       "      <td>[Yes, support qualified immunity for police of...</td>\n",
       "      <td>0.000000</td>\n",
       "      <td>0.000000</td>\n",
       "      <td>0.000000</td>\n",
       "      <td>0.111111</td>\n",
       "      <td>0.491712</td>\n",
       "    </tr>\n",
       "    <tr>\n",
       "      <th>1</th>\n",
       "      <td></td>\n",
       "      <td>Are you in favor of decriminalizing drug use?</td>\n",
       "      <td>{\"answer\": \"yes\", \"reasoning\": \"Joe Biden is i...</td>\n",
       "      <td>[negative impacts.End all incarceration for dr...</td>\n",
       "      <td>[Yes, in favor of decriminalizing drug use]</td>\n",
       "      <td>0.800000</td>\n",
       "      <td>0.907430</td>\n",
       "      <td>0.277778</td>\n",
       "      <td>0.500000</td>\n",
       "      <td>0.679766</td>\n",
       "    </tr>\n",
       "    <tr>\n",
       "      <th>2</th>\n",
       "      <td></td>\n",
       "      <td>Should the government increase environmental r...</td>\n",
       "      <td>{\"answer\": \"yes\", \"reasoning\": \"Joe Biden supp...</td>\n",
       "      <td>[[4:52] From coastal towns to rural farms to u...</td>\n",
       "      <td>[Yes, the government should increase environme...</td>\n",
       "      <td>0.750000</td>\n",
       "      <td>0.915586</td>\n",
       "      <td>0.125000</td>\n",
       "      <td>1.000000</td>\n",
       "      <td>0.639284</td>\n",
       "    </tr>\n",
       "    <tr>\n",
       "      <th>3</th>\n",
       "      <td></td>\n",
       "      <td>Should a photo ID be required to vote?</td>\n",
       "      <td>{\"answer\": \"no\", \"reasoning\": \"Joe Biden belie...</td>\n",
       "      <td>[On the civil rights front, we see renewed att...</td>\n",
       "      <td>[No, a photo ID should not be required to vote]</td>\n",
       "      <td>1.000000</td>\n",
       "      <td>0.835758</td>\n",
       "      <td>0.296296</td>\n",
       "      <td>0.750000</td>\n",
       "      <td>0.559848</td>\n",
       "    </tr>\n",
       "    <tr>\n",
       "      <th>4</th>\n",
       "      <td></td>\n",
       "      <td>Should the government regulate the prices of l...</td>\n",
       "      <td>{\"answer\": \"yes\", \"reasoning\": \"Joe Biden supp...</td>\n",
       "      <td>[Senator Biden fought for years to expand the ...</td>\n",
       "      <td>[Yes, the government should regulate the price...</td>\n",
       "      <td>0.666667</td>\n",
       "      <td>0.928465</td>\n",
       "      <td>0.117647</td>\n",
       "      <td>0.666667</td>\n",
       "      <td>0.617643</td>\n",
       "    </tr>\n",
       "    <tr>\n",
       "      <th>5</th>\n",
       "      <td></td>\n",
       "      <td>Should the government require children to be v...</td>\n",
       "      <td>{\"answer\": \"Yes\", \"reasoning\": \"Joe Biden has ...</td>\n",
       "      <td>[The path to universal health care starts with...</td>\n",
       "      <td>[Yes, the government should require children t...</td>\n",
       "      <td>0.250000</td>\n",
       "      <td>0.839564</td>\n",
       "      <td>0.157895</td>\n",
       "      <td>1.000000</td>\n",
       "      <td>0.654859</td>\n",
       "    </tr>\n",
       "    <tr>\n",
       "      <th>6</th>\n",
       "      <td></td>\n",
       "      <td>Should the U.S. continue to support Israel?</td>\n",
       "      <td>{\"answer\": \"unknown\", \"reasoning\": \"The provid...</td>\n",
       "      <td>[nuclear energy, and also lay the foundation f...</td>\n",
       "      <td>[Yes, U.S. should continue to support Israel]</td>\n",
       "      <td>0.000000</td>\n",
       "      <td>0.000000</td>\n",
       "      <td>0.000000</td>\n",
       "      <td>0.000000</td>\n",
       "      <td>0.468195</td>\n",
       "    </tr>\n",
       "    <tr>\n",
       "      <th>7</th>\n",
       "      <td></td>\n",
       "      <td>Should the federal government pay for tuition ...</td>\n",
       "      <td>{\"answer\": \"yes\", \"reasoning\": \"Joe Biden has ...</td>\n",
       "      <td>[The cost of making community college free cou...</td>\n",
       "      <td>[Yes, federal government should pay for tuitio...</td>\n",
       "      <td>1.000000</td>\n",
       "      <td>0.844007</td>\n",
       "      <td>0.375000</td>\n",
       "      <td>0.400000</td>\n",
       "      <td>0.617051</td>\n",
       "    </tr>\n",
       "    <tr>\n",
       "      <th>8</th>\n",
       "      <td></td>\n",
       "      <td>Do you support affirmative action programs?</td>\n",
       "      <td>{\"answer\": \"yes\", \"reasoning\": \"Joe Biden has ...</td>\n",
       "      <td>[While workplace discrimination is not as obvi...</td>\n",
       "      <td>[Yes, support affirmative action programs]</td>\n",
       "      <td>1.000000</td>\n",
       "      <td>0.894272</td>\n",
       "      <td>0.142857</td>\n",
       "      <td>1.000000</td>\n",
       "      <td>0.669503</td>\n",
       "    </tr>\n",
       "    <tr>\n",
       "      <th>9</th>\n",
       "      <td></td>\n",
       "      <td>Should the government increase spending on pub...</td>\n",
       "      <td>{\"answer\": \"yes\", \"reasoning\": \"Joe Biden beli...</td>\n",
       "      <td>[housing near public transit would cut commute...</td>\n",
       "      <td>[Yes, government should increase spending on p...</td>\n",
       "      <td>1.000000</td>\n",
       "      <td>0.836501</td>\n",
       "      <td>0.000000</td>\n",
       "      <td>0.750000</td>\n",
       "      <td>0.587268</td>\n",
       "    </tr>\n",
       "  </tbody>\n",
       "</table>\n",
       "</div>"
      ],
      "text/plain": [
       "  name                                           question  \\\n",
       "0       Do you support qualified immunity for police o...   \n",
       "1           Are you in favor of decriminalizing drug use?   \n",
       "2       Should the government increase environmental r...   \n",
       "3                  Should a photo ID be required to vote?   \n",
       "4       Should the government regulate the prices of l...   \n",
       "5       Should the government require children to be v...   \n",
       "6             Should the U.S. continue to support Israel?   \n",
       "7       Should the federal government pay for tuition ...   \n",
       "8             Do you support affirmative action programs?   \n",
       "9       Should the government increase spending on pub...   \n",
       "\n",
       "                                              answer  \\\n",
       "0  {\"answer\": \"unknown\", \"reasoning\": \"The provid...   \n",
       "1  {\"answer\": \"yes\", \"reasoning\": \"Joe Biden is i...   \n",
       "2  {\"answer\": \"yes\", \"reasoning\": \"Joe Biden supp...   \n",
       "3  {\"answer\": \"no\", \"reasoning\": \"Joe Biden belie...   \n",
       "4  {\"answer\": \"yes\", \"reasoning\": \"Joe Biden supp...   \n",
       "5  {\"answer\": \"Yes\", \"reasoning\": \"Joe Biden has ...   \n",
       "6  {\"answer\": \"unknown\", \"reasoning\": \"The provid...   \n",
       "7  {\"answer\": \"yes\", \"reasoning\": \"Joe Biden has ...   \n",
       "8  {\"answer\": \"yes\", \"reasoning\": \"Joe Biden has ...   \n",
       "9  {\"answer\": \"yes\", \"reasoning\": \"Joe Biden beli...   \n",
       "\n",
       "                                            contexts  \\\n",
       "0  [When a police officer pins on that shield and...   \n",
       "1  [negative impacts.End all incarceration for dr...   \n",
       "2  [[4:52] From coastal towns to rural farms to u...   \n",
       "3  [On the civil rights front, we see renewed att...   \n",
       "4  [Senator Biden fought for years to expand the ...   \n",
       "5  [The path to universal health care starts with...   \n",
       "6  [nuclear energy, and also lay the foundation f...   \n",
       "7  [The cost of making community college free cou...   \n",
       "8  [While workplace discrimination is not as obvi...   \n",
       "9  [housing near public transit would cut commute...   \n",
       "\n",
       "                                       ground_truths  faithfulness  \\\n",
       "0  [Yes, support qualified immunity for police of...      0.000000   \n",
       "1        [Yes, in favor of decriminalizing drug use]      0.800000   \n",
       "2  [Yes, the government should increase environme...      0.750000   \n",
       "3    [No, a photo ID should not be required to vote]      1.000000   \n",
       "4  [Yes, the government should regulate the price...      0.666667   \n",
       "5  [Yes, the government should require children t...      0.250000   \n",
       "6      [Yes, U.S. should continue to support Israel]      0.000000   \n",
       "7  [Yes, federal government should pay for tuitio...      1.000000   \n",
       "8         [Yes, support affirmative action programs]      1.000000   \n",
       "9  [Yes, government should increase spending on p...      1.000000   \n",
       "\n",
       "   answer_relevancy  context_relevancy  context_recall  answer_correctness  \n",
       "0          0.000000           0.000000        0.111111            0.491712  \n",
       "1          0.907430           0.277778        0.500000            0.679766  \n",
       "2          0.915586           0.125000        1.000000            0.639284  \n",
       "3          0.835758           0.296296        0.750000            0.559848  \n",
       "4          0.928465           0.117647        0.666667            0.617643  \n",
       "5          0.839564           0.157895        1.000000            0.654859  \n",
       "6          0.000000           0.000000        0.000000            0.468195  \n",
       "7          0.844007           0.375000        0.400000            0.617051  \n",
       "8          0.894272           0.142857        1.000000            0.669503  \n",
       "9          0.836501           0.000000        0.750000            0.587268  "
      ]
     },
     "execution_count": 6,
     "metadata": {},
     "output_type": "execute_result"
    }
   ],
   "source": [
    "df_eval"
   ]
  },
  {
   "cell_type": "code",
   "execution_count": 7,
   "metadata": {},
   "outputs": [
    {
     "data": {
      "text/plain": [
       "'../evaluation_records/012220240234.xlsx'"
      ]
     },
     "execution_count": 7,
     "metadata": {},
     "output_type": "execute_result"
    }
   ],
   "source": [
    "from datetime import datetime\n",
    "# store result\n",
    "eval_records_folder_path = \"../evaluation_records/\"\n",
    "\n",
    "now = datetime.now()\n",
    "path = eval_records_folder_path + now.strftime(\"%m%d%Y%H%M\") + \".xlsx\"\n",
    "df_eval.to_excel(path, index=False)\n",
    "path"
   ]
  }
 ],
 "metadata": {
  "kernelspec": {
   "display_name": "uslong",
   "language": "python",
   "name": "python3"
  },
  "language_info": {
   "codemirror_mode": {
    "name": "ipython",
    "version": 3
   },
   "file_extension": ".py",
   "mimetype": "text/x-python",
   "name": "python",
   "nbconvert_exporter": "python",
   "pygments_lexer": "ipython3",
   "version": "3.10.11"
  }
 },
 "nbformat": 4,
 "nbformat_minor": 2
}
