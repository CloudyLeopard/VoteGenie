{
 "cells": [
  {
   "cell_type": "code",
   "execution_count": 1,
   "metadata": {},
   "outputs": [],
   "source": [
    "import pandas as pd\n",
    "import os\n",
    "os.environ[\"OPENAI_API_KEY\"] = os.getenv(\"OPENAI_API_KEY\")"
   ]
  },
  {
   "cell_type": "code",
   "execution_count": 2,
   "metadata": {},
   "outputs": [
    {
     "data": {
      "text/html": [
       "<div>\n",
       "<style scoped>\n",
       "    .dataframe tbody tr th:only-of-type {\n",
       "        vertical-align: middle;\n",
       "    }\n",
       "\n",
       "    .dataframe tbody tr th {\n",
       "        vertical-align: top;\n",
       "    }\n",
       "\n",
       "    .dataframe thead th {\n",
       "        text-align: right;\n",
       "    }\n",
       "</style>\n",
       "<table border=\"1\" class=\"dataframe\">\n",
       "  <thead>\n",
       "    <tr style=\"text-align: right;\">\n",
       "      <th></th>\n",
       "      <th>name</th>\n",
       "      <th>category</th>\n",
       "      <th>title</th>\n",
       "      <th>question</th>\n",
       "      <th>ground_truths</th>\n",
       "      <th>reference</th>\n",
       "      <th>Unnamed: 6</th>\n",
       "    </tr>\n",
       "  </thead>\n",
       "  <tbody>\n",
       "    <tr>\n",
       "      <th>0</th>\n",
       "      <td>Joe Biden</td>\n",
       "      <td>Social Issues</td>\n",
       "      <td>Abortion</td>\n",
       "      <td>Do you support women's right to abortion?</td>\n",
       "      <td>[Yes]</td>\n",
       "      <td>NaN</td>\n",
       "      <td>NaN</td>\n",
       "    </tr>\n",
       "    <tr>\n",
       "      <th>1</th>\n",
       "      <td>Joe Biden</td>\n",
       "      <td>Social Issues</td>\n",
       "      <td>Gender transition</td>\n",
       "      <td>Should people under the age of 18 years old be...</td>\n",
       "      <td>[Yes]</td>\n",
       "      <td>NaN</td>\n",
       "      <td>NaN</td>\n",
       "    </tr>\n",
       "  </tbody>\n",
       "</table>\n",
       "</div>"
      ],
      "text/plain": [
       "        name       category              title  \\\n",
       "0  Joe Biden  Social Issues           Abortion   \n",
       "1  Joe Biden  Social Issues  Gender transition   \n",
       "\n",
       "                                            question ground_truths reference  \\\n",
       "0          Do you support women's right to abortion?         [Yes]       NaN   \n",
       "1  Should people under the age of 18 years old be...         [Yes]       NaN   \n",
       "\n",
       "  Unnamed: 6  \n",
       "0        NaN  \n",
       "1        NaN  "
      ]
     },
     "execution_count": 2,
     "metadata": {},
     "output_type": "execute_result"
    }
   ],
   "source": [
    "# evaluation_file = \"../verified_data_sample_01_20_2024.xlsx\"\n",
    "evaluation_file = \"../verified_data_01_15_2024.xlsx\"\n",
    "df = pd.read_excel(evaluation_file)\n",
    "df['ground_truths']=df['ground_truths'].apply(lambda x: [x])\n",
    "df.head(2)"
   ]
  },
  {
   "cell_type": "code",
   "execution_count": 3,
   "metadata": {},
   "outputs": [
    {
     "name": "stdout",
     "output_type": "stream",
     "text": [
      "Genie Master initialized at: 2024-01-21 00:27:45.282213-05:00\n",
      "Genie is ready... True\n",
      "Document collection count... 45990\n",
      "\n",
      "Genie's standard prompt template:\n",
      "\u001b[1mSystem Message:\u001b[0m You determine how a person will respond to a given question based on that person's quotes\n",
      "\u001b[1mHuman Message:\u001b[0m Use the following pieces of context to answer the question at the end, and support it with evidence. If you don't know the answer, just say that you don't know, don't try to make up an answer.\n",
      "The output should be formatted as a JSON instance that conforms to the JSON schema below.\n",
      "\n",
      "As an example, for the schema {\"properties\": {\"foo\": {\"title\": \"Foo\", \"description\": \"a list of strings\", \"type\": \"array\", \"items\": {\"type\": \"string\"}}}, \"required\": [\"foo\"]}\n",
      "the object {\"foo\": [\"bar\", \"baz\"]} is a well-formatted instance of the schema. The object {\"properties\": {\"foo\": [\"bar\", \"baz\"]}} is not well-formatted.\n",
      "\n",
      "Here is the output schema:\n",
      "```\n",
      "{\"properties\": {\"answer\": {\"title\": \"Answer\", \"description\": \"The response to the question. Accepted values are: yes, no, unknown\", \"type\": \"string\"}, \"reasoning\": {\"title\": \"Reasoning\", \"description\": \"The reasoning behind the response\", \"type\": \"string\"}, \"evidence\": {\"title\": \"Evidence\", \"description\": \"List the quotes from the context that supports your answer\", \"type\": \"array\", \"items\": {\"type\": \"string\"}}}, \"required\": [\"answer\", \"reasoning\", \"evidence\"]}\n",
      "```\n",
      "\n",
      "\u001b[4mcontext\u001b[0m\n",
      "\n",
      "Question: For \u001b[4mname\u001b[0m, \u001b[4mquestion?\u001b[0m\n",
      "\n"
     ]
    }
   ],
   "source": [
    "from genie_master import GenieMaster\n",
    "\n",
    "genie_db_path = \"./chroma_qadata_db/\"\n",
    "gm = GenieMaster(db_path=genie_db_path)\n",
    "print(\"Genie is ready...\", gm.model_is_ready())\n",
    "print(\"Document collection count...\", gm._document_count())\n",
    "\n",
    "genie=gm.get_genie(\"\\033[4mname\\033[0m\")\n",
    "prompt_template = genie.get_prompt_template()\n",
    "prompt = prompt_template.format_messages(context=\"\\033[4mcontext\\033[0m\", question=\"\\033[4mquestion?\\033[0m\")\n",
    "print(\"\\nGenie's standard prompt template:\")\n",
    "print(f'\\033[1mSystem Message:\\033[0m {prompt[0].content}')\n",
    "print(f'\\033[1mHuman Message:\\033[0m {prompt[1].content}')"
   ]
  },
  {
   "cell_type": "code",
   "execution_count": 4,
   "metadata": {},
   "outputs": [
    {
     "data": {
      "text/html": [
       "<div>\n",
       "<style scoped>\n",
       "    .dataframe tbody tr th:only-of-type {\n",
       "        vertical-align: middle;\n",
       "    }\n",
       "\n",
       "    .dataframe tbody tr th {\n",
       "        vertical-align: top;\n",
       "    }\n",
       "\n",
       "    .dataframe thead th {\n",
       "        text-align: right;\n",
       "    }\n",
       "</style>\n",
       "<table border=\"1\" class=\"dataframe\">\n",
       "  <thead>\n",
       "    <tr style=\"text-align: right;\">\n",
       "      <th></th>\n",
       "      <th>name</th>\n",
       "      <th>question</th>\n",
       "      <th>ground_truths</th>\n",
       "    </tr>\n",
       "  </thead>\n",
       "  <tbody>\n",
       "    <tr>\n",
       "      <th>27</th>\n",
       "      <td>Joe Biden</td>\n",
       "      <td>Should illegal immigrants have access to gover...</td>\n",
       "      <td>[Yes]</td>\n",
       "    </tr>\n",
       "    <tr>\n",
       "      <th>40</th>\n",
       "      <td>Joe Biden</td>\n",
       "      <td>Should the U.S. expand offshore oil drilling?</td>\n",
       "      <td>[No]</td>\n",
       "    </tr>\n",
       "    <tr>\n",
       "      <th>35</th>\n",
       "      <td>Joe Biden</td>\n",
       "      <td>Should the electoral college be abolished?</td>\n",
       "      <td>[No]</td>\n",
       "    </tr>\n",
       "  </tbody>\n",
       "</table>\n",
       "</div>"
      ],
      "text/plain": [
       "         name                                           question ground_truths\n",
       "27  Joe Biden  Should illegal immigrants have access to gover...         [Yes]\n",
       "40  Joe Biden      Should the U.S. expand offshore oil drilling?          [No]\n",
       "35  Joe Biden         Should the electoral college be abolished?          [No]"
      ]
     },
     "execution_count": 4,
     "metadata": {},
     "output_type": "execute_result"
    }
   ],
   "source": [
    "sample_number = 5\n",
    "df_data = df[['name', 'question', 'ground_truths']].sample(sample_number)\n",
    "df_data.head(3)"
   ]
  },
  {
   "cell_type": "code",
   "execution_count": 5,
   "metadata": {},
   "outputs": [
    {
     "name": "stdout",
     "output_type": "stream",
     "text": [
      "\u001b[1mEvaluating <Genie name=Joe Biden model=gpt-3.5-turbo-1106> \u001b[0m\n",
      "Getting LLM response...\n",
      "evaluating with [answer_similarity]\n"
     ]
    },
    {
     "name": "stderr",
     "output_type": "stream",
     "text": [
      "100%|██████████| 1/1 [00:00<00:00,  1.66it/s]\n"
     ]
    },
    {
     "name": "stdout",
     "output_type": "stream",
     "text": [
      "\n",
      "answer_similarity: 0.7477570763090058\n"
     ]
    }
   ],
   "source": [
    "df_eval = gm.evaluate(df_data)\n",
    "\n",
    "eval_result = dict()\n",
    "df_scores = df_eval.drop(\n",
    "    columns=[\"name\", \"question\", \"answer\", \"contexts\", \"ground_truths\"]\n",
    ")\n",
    "\n",
    "for metric in df_scores.columns:\n",
    "    eval_result[metric] = df_scores[metric].sum() / df_scores.shape[0]\n",
    "\n",
    "print('')\n",
    "for metric, score in eval_result.items():\n",
    "    print(f\"{metric}: {score}\")"
   ]
  },
  {
   "cell_type": "code",
   "execution_count": 6,
   "metadata": {},
   "outputs": [
    {
     "data": {
      "text/html": [
       "<div>\n",
       "<style scoped>\n",
       "    .dataframe tbody tr th:only-of-type {\n",
       "        vertical-align: middle;\n",
       "    }\n",
       "\n",
       "    .dataframe tbody tr th {\n",
       "        vertical-align: top;\n",
       "    }\n",
       "\n",
       "    .dataframe thead th {\n",
       "        text-align: right;\n",
       "    }\n",
       "</style>\n",
       "<table border=\"1\" class=\"dataframe\">\n",
       "  <thead>\n",
       "    <tr style=\"text-align: right;\">\n",
       "      <th></th>\n",
       "      <th>name</th>\n",
       "      <th>question</th>\n",
       "      <th>answer</th>\n",
       "      <th>contexts</th>\n",
       "      <th>ground_truths</th>\n",
       "      <th>answer_similarity</th>\n",
       "    </tr>\n",
       "  </thead>\n",
       "  <tbody>\n",
       "    <tr>\n",
       "      <th>0</th>\n",
       "      <td></td>\n",
       "      <td>Should illegal immigrants have access to gover...</td>\n",
       "      <td>{\"answer\": \"unknown\", \"reasoning\": \"There is n...</td>\n",
       "      <td>[people who would otherwise qualify for Medica...</td>\n",
       "      <td>[Yes]</td>\n",
       "      <td>0.731151</td>\n",
       "    </tr>\n",
       "    <tr>\n",
       "      <th>1</th>\n",
       "      <td></td>\n",
       "      <td>Should the U.S. expand offshore oil drilling?</td>\n",
       "      <td>{\"answer\": \"no\", \"reasoning\": \"Joe Biden has e...</td>\n",
       "      <td>[End offshore drillingwww.politico.com/2020-el...</td>\n",
       "      <td>[No]</td>\n",
       "      <td>0.754785</td>\n",
       "    </tr>\n",
       "    <tr>\n",
       "      <th>2</th>\n",
       "      <td></td>\n",
       "      <td>Should the electoral college be abolished?</td>\n",
       "      <td>{\"answer\": \"unknown\", \"reasoning\": \"There is n...</td>\n",
       "      <td>[supports giving voting representation to the ...</td>\n",
       "      <td>[No]</td>\n",
       "      <td>0.756009</td>\n",
       "    </tr>\n",
       "    <tr>\n",
       "      <th>3</th>\n",
       "      <td></td>\n",
       "      <td>Should the government increase funding for men...</td>\n",
       "      <td>{\"answer\": \"yes\", \"reasoning\": \"Joe Biden has ...</td>\n",
       "      <td>[Get people who should be supported with socia...</td>\n",
       "      <td>[Yes]</td>\n",
       "      <td>0.745678</td>\n",
       "    </tr>\n",
       "    <tr>\n",
       "      <th>4</th>\n",
       "      <td></td>\n",
       "      <td>Should the government give tax credits and sub...</td>\n",
       "      <td>{\"answer\": \"yes\", \"reasoning\": \"Joe Biden has ...</td>\n",
       "      <td>[emissions.•\\tIncluded in the 2009 American Re...</td>\n",
       "      <td>[Yes]</td>\n",
       "      <td>0.751162</td>\n",
       "    </tr>\n",
       "  </tbody>\n",
       "</table>\n",
       "</div>"
      ],
      "text/plain": [
       "  name                                           question  \\\n",
       "0       Should illegal immigrants have access to gover...   \n",
       "1           Should the U.S. expand offshore oil drilling?   \n",
       "2              Should the electoral college be abolished?   \n",
       "3       Should the government increase funding for men...   \n",
       "4       Should the government give tax credits and sub...   \n",
       "\n",
       "                                              answer  \\\n",
       "0  {\"answer\": \"unknown\", \"reasoning\": \"There is n...   \n",
       "1  {\"answer\": \"no\", \"reasoning\": \"Joe Biden has e...   \n",
       "2  {\"answer\": \"unknown\", \"reasoning\": \"There is n...   \n",
       "3  {\"answer\": \"yes\", \"reasoning\": \"Joe Biden has ...   \n",
       "4  {\"answer\": \"yes\", \"reasoning\": \"Joe Biden has ...   \n",
       "\n",
       "                                            contexts ground_truths  \\\n",
       "0  [people who would otherwise qualify for Medica...         [Yes]   \n",
       "1  [End offshore drillingwww.politico.com/2020-el...          [No]   \n",
       "2  [supports giving voting representation to the ...          [No]   \n",
       "3  [Get people who should be supported with socia...         [Yes]   \n",
       "4  [emissions.•\\tIncluded in the 2009 American Re...         [Yes]   \n",
       "\n",
       "   answer_similarity  \n",
       "0           0.731151  \n",
       "1           0.754785  \n",
       "2           0.756009  \n",
       "3           0.745678  \n",
       "4           0.751162  "
      ]
     },
     "execution_count": 6,
     "metadata": {},
     "output_type": "execute_result"
    }
   ],
   "source": [
    "df_eval"
   ]
  },
  {
   "cell_type": "code",
   "execution_count": 7,
   "metadata": {},
   "outputs": [
    {
     "data": {
      "text/plain": [
       "'../evaluation_records/012120240027.xlsx'"
      ]
     },
     "execution_count": 7,
     "metadata": {},
     "output_type": "execute_result"
    }
   ],
   "source": [
    "from datetime import datetime\n",
    "# store result\n",
    "eval_records_folder_path = \"../evaluation_records/\"\n",
    "\n",
    "now = datetime.now()\n",
    "path = eval_records_folder_path + now.strftime(\"%m%d%Y%H%M\") + \".xlsx\"\n",
    "df_eval.to_excel(path, index=False)\n",
    "path"
   ]
  }
 ],
 "metadata": {
  "kernelspec": {
   "display_name": "uslong",
   "language": "python",
   "name": "python3"
  },
  "language_info": {
   "codemirror_mode": {
    "name": "ipython",
    "version": 3
   },
   "file_extension": ".py",
   "mimetype": "text/x-python",
   "name": "python",
   "nbconvert_exporter": "python",
   "pygments_lexer": "ipython3",
   "version": "3.10.11"
  }
 },
 "nbformat": 4,
 "nbformat_minor": 2
}
