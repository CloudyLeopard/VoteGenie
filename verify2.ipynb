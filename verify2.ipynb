{
 "cells": [
  {
   "cell_type": "markdown",
   "metadata": {},
   "source": [
    "https://docs.ragas.io/en/stable/getstarted/evaluation.html"
   ]
  },
  {
   "cell_type": "code",
   "execution_count": 1,
   "metadata": {},
   "outputs": [],
   "source": [
    "import json\n",
    "import os\n",
    "os.environ[\"OPENAI_API_KEY\"] = os.getenv(\"OPENAI_API_KEY\")\n",
    "\n",
    "from datasets import Dataset"
   ]
  },
  {
   "cell_type": "code",
   "execution_count": 2,
   "metadata": {},
   "outputs": [
    {
     "data": {
      "text/html": [
       "<div>\n",
       "<style scoped>\n",
       "    .dataframe tbody tr th:only-of-type {\n",
       "        vertical-align: middle;\n",
       "    }\n",
       "\n",
       "    .dataframe tbody tr th {\n",
       "        vertical-align: top;\n",
       "    }\n",
       "\n",
       "    .dataframe thead th {\n",
       "        text-align: right;\n",
       "    }\n",
       "</style>\n",
       "<table border=\"1\" class=\"dataframe\">\n",
       "  <thead>\n",
       "    <tr style=\"text-align: right;\">\n",
       "      <th></th>\n",
       "      <th>name</th>\n",
       "      <th>category</th>\n",
       "      <th>title</th>\n",
       "      <th>question</th>\n",
       "      <th>stance</th>\n",
       "      <th>reference</th>\n",
       "      <th>answer</th>\n",
       "      <th>reasoning</th>\n",
       "      <th>evidence</th>\n",
       "      <th>source_content</th>\n",
       "      <th>source_category</th>\n",
       "      <th>source_sub_category</th>\n",
       "      <th>cost</th>\n",
       "    </tr>\n",
       "  </thead>\n",
       "  <tbody>\n",
       "    <tr>\n",
       "      <th>0</th>\n",
       "      <td>Joe Biden</td>\n",
       "      <td>Social Issues</td>\n",
       "      <td>Abortion</td>\n",
       "      <td>Do you support women's right to abortion?</td>\n",
       "      <td>Yes</td>\n",
       "      <td>NaN</td>\n",
       "      <td>yes</td>\n",
       "      <td>Joe Biden has expressed clear support for a wo...</td>\n",
       "      <td>['I would work to enshrine into federal law th...</td>\n",
       "      <td>I would work to enshrine into federal law the ...</td>\n",
       "      <td>Abortion, Pro-Life &amp; Genetic Engineering</td>\n",
       "      <td>Roe v. Wade</td>\n",
       "      <td>0</td>\n",
       "    </tr>\n",
       "    <tr>\n",
       "      <th>1</th>\n",
       "      <td>Joe Biden</td>\n",
       "      <td>Social Issues</td>\n",
       "      <td>Gender transition</td>\n",
       "      <td>Should people under the age of 18 years old be...</td>\n",
       "      <td>Yes</td>\n",
       "      <td>NaN</td>\n",
       "      <td>yes</td>\n",
       "      <td>Joe Biden has expressed support for transgende...</td>\n",
       "      <td>[\"The fact of the matter is that we're in a po...</td>\n",
       "      <td>would be more expensive to treat if they had t...</td>\n",
       "      <td>Health &amp; Medical</td>\n",
       "      <td>Medically Uninsured or Underinsured</td>\n",
       "      <td>0</td>\n",
       "    </tr>\n",
       "    <tr>\n",
       "      <th>2</th>\n",
       "      <td>Joe Biden</td>\n",
       "      <td>Social Issues</td>\n",
       "      <td>Hate Speech</td>\n",
       "      <td>Should hate speech be protected by the first a...</td>\n",
       "      <td>No</td>\n",
       "      <td>NaN</td>\n",
       "      <td>unknown</td>\n",
       "      <td>The provided context does not contain a direct...</td>\n",
       "      <td>[]</td>\n",
       "      <td>[4:51] Former Vice President Joe Biden discuss...</td>\n",
       "      <td>Crime, Police &amp; Imprisonment</td>\n",
       "      <td>Hate Crimes</td>\n",
       "      <td>0</td>\n",
       "    </tr>\n",
       "  </tbody>\n",
       "</table>\n",
       "</div>"
      ],
      "text/plain": [
       "        name       category              title  \\\n",
       "0  Joe Biden  Social Issues           Abortion   \n",
       "1  Joe Biden  Social Issues  Gender transition   \n",
       "2  Joe Biden  Social Issues        Hate Speech   \n",
       "\n",
       "                                            question stance reference  \\\n",
       "0          Do you support women's right to abortion?    Yes       NaN   \n",
       "1  Should people under the age of 18 years old be...    Yes       NaN   \n",
       "2  Should hate speech be protected by the first a...     No       NaN   \n",
       "\n",
       "    answer                                          reasoning  \\\n",
       "0      yes  Joe Biden has expressed clear support for a wo...   \n",
       "1      yes  Joe Biden has expressed support for transgende...   \n",
       "2  unknown  The provided context does not contain a direct...   \n",
       "\n",
       "                                            evidence  \\\n",
       "0  ['I would work to enshrine into federal law th...   \n",
       "1  [\"The fact of the matter is that we're in a po...   \n",
       "2                                                 []   \n",
       "\n",
       "                                      source_content  \\\n",
       "0  I would work to enshrine into federal law the ...   \n",
       "1  would be more expensive to treat if they had t...   \n",
       "2  [4:51] Former Vice President Joe Biden discuss...   \n",
       "\n",
       "                            source_category  \\\n",
       "0  Abortion, Pro-Life & Genetic Engineering   \n",
       "1                          Health & Medical   \n",
       "2              Crime, Police & Imprisonment   \n",
       "\n",
       "                   source_sub_category  cost  \n",
       "0                          Roe v. Wade     0  \n",
       "1  Medically Uninsured or Underinsured     0  \n",
       "2                          Hate Crimes     0  "
      ]
     },
     "execution_count": 2,
     "metadata": {},
     "output_type": "execute_result"
    }
   ],
   "source": [
    "import pandas as pd\n",
    "df = pd.read_excel(\"verify_result.xlsx\")\n",
    "df.head(3)"
   ]
  },
  {
   "cell_type": "code",
   "execution_count": 3,
   "metadata": {},
   "outputs": [
    {
     "name": "stdout",
     "output_type": "stream",
     "text": [
      "Genie Master initialized at: 2024-01-20 04:18:11.464888-05:00\n",
      "Genie is ready... True\n",
      "Document collection count... 45990\n"
     ]
    }
   ],
   "source": [
    "from genie_master import GenieMaster\n",
    "\n",
    "genie_db_path = \"./chroma_qadata_db/\"\n",
    "gm = GenieMaster(db_path=genie_db_path)\n",
    "print(\"Genie is ready...\", gm.model_is_ready())\n",
    "print(\"Document collection count...\", gm._document_count())"
   ]
  },
  {
   "cell_type": "code",
   "execution_count": 4,
   "metadata": {},
   "outputs": [
    {
     "name": "stdout",
     "output_type": "stream",
     "text": [
      "<Genie name=Joe Biden model=gpt-3.5-turbo-1106>\n"
     ]
    }
   ],
   "source": [
    "name = \"Joe Biden\"\n",
    "genie = gm.get_genie(name)\n",
    "print(genie)"
   ]
  },
  {
   "cell_type": "code",
   "execution_count": 5,
   "metadata": {},
   "outputs": [
    {
     "data": {
      "text/plain": [
       "['Should there be more restrictions on the current process of purchasing a gun?',\n",
       " 'Should political candidates be required to release their recent tax returns to the public?',\n",
       " 'Should working illegal immigrants be given temporary amnesty?',\n",
       " 'Should \"gender identity\" be added to anti-discrimination laws?',\n",
       " 'Should the US increase foreign aid spending?']"
      ]
     },
     "execution_count": 5,
     "metadata": {},
     "output_type": "execute_result"
    }
   ],
   "source": [
    "df_sample = df.sample(5)\n",
    "questions = df_sample.question.to_list()\n",
    "questions"
   ]
  },
  {
   "cell_type": "markdown",
   "metadata": {},
   "source": [
    "# new"
   ]
  },
  {
   "cell_type": "code",
   "execution_count": 7,
   "metadata": {},
   "outputs": [
    {
     "name": "stdout",
     "output_type": "stream",
     "text": [
      "evaluating with [context_precision]\n"
     ]
    },
    {
     "name": "stderr",
     "output_type": "stream",
     "text": [
      "100%|██████████| 1/1 [00:18<00:00, 18.97s/it]\n"
     ]
    },
    {
     "name": "stdout",
     "output_type": "stream",
     "text": [
      "evaluating with [faithfulness]\n"
     ]
    },
    {
     "name": "stderr",
     "output_type": "stream",
     "text": [
      "100%|██████████| 1/1 [00:17<00:00, 17.10s/it]\n"
     ]
    },
    {
     "name": "stdout",
     "output_type": "stream",
     "text": [
      "evaluating with [answer_relevancy]\n"
     ]
    },
    {
     "name": "stderr",
     "output_type": "stream",
     "text": [
      "100%|██████████| 1/1 [00:05<00:00,  5.57s/it]\n"
     ]
    },
    {
     "data": {
      "text/plain": [
       "{'context_precision': 0.0000, 'faithfulness': 0.7000, 'answer_relevancy': 0.7096}"
      ]
     },
     "execution_count": 7,
     "metadata": {},
     "output_type": "execute_result"
    }
   ],
   "source": [
    "eval = genie.evaluate(questions)\n",
    "eval"
   ]
  },
  {
   "cell_type": "code",
   "execution_count": 9,
   "metadata": {},
   "outputs": [
    {
     "data": {
      "text/html": [
       "<div>\n",
       "<style scoped>\n",
       "    .dataframe tbody tr th:only-of-type {\n",
       "        vertical-align: middle;\n",
       "    }\n",
       "\n",
       "    .dataframe tbody tr th {\n",
       "        vertical-align: top;\n",
       "    }\n",
       "\n",
       "    .dataframe thead th {\n",
       "        text-align: right;\n",
       "    }\n",
       "</style>\n",
       "<table border=\"1\" class=\"dataframe\">\n",
       "  <thead>\n",
       "    <tr style=\"text-align: right;\">\n",
       "      <th></th>\n",
       "      <th>question</th>\n",
       "      <th>answer</th>\n",
       "      <th>contexts</th>\n",
       "      <th>context_precision</th>\n",
       "      <th>faithfulness</th>\n",
       "      <th>answer_relevancy</th>\n",
       "    </tr>\n",
       "  </thead>\n",
       "  <tbody>\n",
       "    <tr>\n",
       "      <th>0</th>\n",
       "      <td>Should there be more restrictions on the curre...</td>\n",
       "      <td>{\"answer\": \"yes\", \"reasoning\": \"Joe Biden has ...</td>\n",
       "      <td>[Joe Biden helped author the Federal Assault W...</td>\n",
       "      <td>0.0</td>\n",
       "      <td>1.0</td>\n",
       "      <td>0.897981</td>\n",
       "    </tr>\n",
       "    <tr>\n",
       "      <th>1</th>\n",
       "      <td>Should political candidates be required to rel...</td>\n",
       "      <td>{\"answer\": \"yes\", \"reasoning\": \"Joe Biden has ...</td>\n",
       "      <td>[Wealthy special interests, corporations, and ...</td>\n",
       "      <td>0.0</td>\n",
       "      <td>0.5</td>\n",
       "      <td>0.919536</td>\n",
       "    </tr>\n",
       "    <tr>\n",
       "      <th>2</th>\n",
       "      <td>Should working illegal immigrants be given tem...</td>\n",
       "      <td>{\"answer\": \"yes\", \"reasoning\": \"Joe Biden supp...</td>\n",
       "      <td>[The millions of undocumented people in the Un...</td>\n",
       "      <td>0.0</td>\n",
       "      <td>1.0</td>\n",
       "      <td>0.842690</td>\n",
       "    </tr>\n",
       "    <tr>\n",
       "      <th>3</th>\n",
       "      <td>Should \"gender identity\" be added to anti-disc...</td>\n",
       "      <td>{\"answer\": \"yes\", \"reasoning\": \"Joe Biden has ...</td>\n",
       "      <td>[While workplace discrimination is not as obvi...</td>\n",
       "      <td>0.0</td>\n",
       "      <td>1.0</td>\n",
       "      <td>0.887627</td>\n",
       "    </tr>\n",
       "    <tr>\n",
       "      <th>4</th>\n",
       "      <td>Should the US increase foreign aid spending?</td>\n",
       "      <td>{\"answer\": \"unknown\", \"reasoning\": \"The quotes...</td>\n",
       "      <td>[funding increase, as recommended by several v...</td>\n",
       "      <td>0.0</td>\n",
       "      <td>0.0</td>\n",
       "      <td>0.000000</td>\n",
       "    </tr>\n",
       "  </tbody>\n",
       "</table>\n",
       "</div>"
      ],
      "text/plain": [
       "                                            question  \\\n",
       "0  Should there be more restrictions on the curre...   \n",
       "1  Should political candidates be required to rel...   \n",
       "2  Should working illegal immigrants be given tem...   \n",
       "3  Should \"gender identity\" be added to anti-disc...   \n",
       "4       Should the US increase foreign aid spending?   \n",
       "\n",
       "                                              answer  \\\n",
       "0  {\"answer\": \"yes\", \"reasoning\": \"Joe Biden has ...   \n",
       "1  {\"answer\": \"yes\", \"reasoning\": \"Joe Biden has ...   \n",
       "2  {\"answer\": \"yes\", \"reasoning\": \"Joe Biden supp...   \n",
       "3  {\"answer\": \"yes\", \"reasoning\": \"Joe Biden has ...   \n",
       "4  {\"answer\": \"unknown\", \"reasoning\": \"The quotes...   \n",
       "\n",
       "                                            contexts  context_precision  \\\n",
       "0  [Joe Biden helped author the Federal Assault W...                0.0   \n",
       "1  [Wealthy special interests, corporations, and ...                0.0   \n",
       "2  [The millions of undocumented people in the Un...                0.0   \n",
       "3  [While workplace discrimination is not as obvi...                0.0   \n",
       "4  [funding increase, as recommended by several v...                0.0   \n",
       "\n",
       "   faithfulness  answer_relevancy  \n",
       "0           1.0          0.897981  \n",
       "1           0.5          0.919536  \n",
       "2           1.0          0.842690  \n",
       "3           1.0          0.887627  \n",
       "4           0.0          0.000000  "
      ]
     },
     "execution_count": 9,
     "metadata": {},
     "output_type": "execute_result"
    }
   ],
   "source": [
    "df_eval = eval.to_pandas()\n",
    "df_eval.head()"
   ]
  },
  {
   "cell_type": "markdown",
   "metadata": {},
   "source": [
    "# old"
   ]
  },
  {
   "cell_type": "code",
   "execution_count": null,
   "metadata": {},
   "outputs": [],
   "source": [
    "base_batch_result = genie.base_batch_ask(questions)\n",
    "base_batch_result"
   ]
  },
  {
   "cell_type": "code",
   "execution_count": null,
   "metadata": {},
   "outputs": [],
   "source": [
    "df_result = pd.DataFrame(base_batch_result)\n",
    "df_result[\"answer\"] = df_result[\"result\"].apply(lambda x: json.dumps(x))\n",
    "df_result[\"contexts\"] = df_result[\"context\"].apply(lambda docs: [doc.page_content for doc in docs])\n",
    "df_result = df_result[[\"question\", \"answer\", \"contexts\"]]\n",
    "df_result"
   ]
  },
  {
   "cell_type": "code",
   "execution_count": null,
   "metadata": {},
   "outputs": [],
   "source": [
    "dataset = Dataset.from_pandas(df_result)\n",
    "dataset"
   ]
  },
  {
   "cell_type": "code",
   "execution_count": null,
   "metadata": {},
   "outputs": [],
   "source": [
    "from ragas.metrics import (\n",
    "    answer_relevancy,\n",
    "    faithfulness,\n",
    "    context_recall,\n",
    "    context_precision,\n",
    ")"
   ]
  },
  {
   "cell_type": "code",
   "execution_count": null,
   "metadata": {},
   "outputs": [],
   "source": [
    "from ragas import evaluate\n",
    "\n",
    "result = evaluate(\n",
    "    dataset.select(range(2)),\n",
    "    metrics = [\n",
    "        context_precision,\n",
    "        faithfulness,\n",
    "        answer_relevancy,\n",
    "        # context_recall\n",
    "    ]\n",
    ")\n",
    "result"
   ]
  }
 ],
 "metadata": {
  "kernelspec": {
   "display_name": "uslong",
   "language": "python",
   "name": "python3"
  },
  "language_info": {
   "codemirror_mode": {
    "name": "ipython",
    "version": 3
   },
   "file_extension": ".py",
   "mimetype": "text/x-python",
   "name": "python",
   "nbconvert_exporter": "python",
   "pygments_lexer": "ipython3",
   "version": "3.10.11"
  }
 },
 "nbformat": 4,
 "nbformat_minor": 2
}
