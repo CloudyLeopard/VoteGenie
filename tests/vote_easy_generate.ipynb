{
 "cells": [
  {
   "cell_type": "markdown",
   "metadata": {},
   "source": [
    "# Prep DF If needed"
   ]
  },
  {
   "cell_type": "code",
   "execution_count": 1,
   "metadata": {},
   "outputs": [],
   "source": [
    "%%script false --no-raise-error\n",
    "\n",
    "# Loading in Data (skip this cell if already done)\n",
    "import re\n",
    "import pandas as pd\n",
    "\n",
    "def preprocess_quote(quote):\n",
    "    # Replace missing spaces with space\n",
    "    preprocessed_quote = re.sub(r\"(?<=[a-z])(?=[A-Z])\", \" \", quote)\n",
    "\n",
    "    # ...\n",
    "    # add more if necessary\n",
    "\n",
    "    return preprocessed_quote\n",
    "\n",
    "df = pd.read_excel(\"data/qadata.xlsx\")\n",
    "df[[\"name\", \"party\"]] = df.username.str.split(\" - \", expand=True).apply(\n",
    "    lambda x: x.str.strip()\n",
    ")\n",
    "df = df.drop([\"username\"], axis=1)\n",
    "\n",
    "df[\"answer\"] = df[\"answer\"].apply(preprocess_quote)\n",
    "\n",
    "# removing None values in \"party\"\n",
    "df[\"party\"] = df[\"party\"].apply(lambda p: p if p else \"Other\")\n",
    "df['name'] = df.name.str.replace('&quot;', '\"')\n",
    "df.to_pickle(\"./data/mod_qadata\")\n",
    "df.to_excel(\"./data/mod_qadata.xlsx\", index=False)\n",
    "df.sample(5)"
   ]
  },
  {
   "cell_type": "markdown",
   "metadata": {},
   "source": [
    "# Do Stuff"
   ]
  },
  {
   "cell_type": "code",
   "execution_count": 2,
   "metadata": {},
   "outputs": [],
   "source": [
    "import os\n",
    "if not os.path.exists(\"./chroma_qadata_db\"):\n",
    "    !unzip chroma_qadata_db.zip"
   ]
  },
  {
   "cell_type": "code",
   "execution_count": 6,
   "metadata": {},
   "outputs": [
    {
     "name": "stdout",
     "output_type": "stream",
     "text": [
      "Genie Master initialized at: 2023-08-28 01:35:15.589350-04:00\n",
      "# of people: 4281\n"
     ]
    },
    {
     "data": {
      "text/html": [
       "<div>\n",
       "<style scoped>\n",
       "    .dataframe tbody tr th:only-of-type {\n",
       "        vertical-align: middle;\n",
       "    }\n",
       "\n",
       "    .dataframe tbody tr th {\n",
       "        vertical-align: top;\n",
       "    }\n",
       "\n",
       "    .dataframe thead th {\n",
       "        text-align: right;\n",
       "    }\n",
       "</style>\n",
       "<table border=\"1\" class=\"dataframe\">\n",
       "  <thead>\n",
       "    <tr style=\"text-align: right;\">\n",
       "      <th></th>\n",
       "      <th>name</th>\n",
       "      <th>party</th>\n",
       "      <th>usertitle</th>\n",
       "    </tr>\n",
       "  </thead>\n",
       "  <tbody>\n",
       "    <tr>\n",
       "      <th>14097</th>\n",
       "      <td>Jesse Tyler Pippy</td>\n",
       "      <td>R</td>\n",
       "      <td>House of Delegates District 4</td>\n",
       "    </tr>\n",
       "    <tr>\n",
       "      <th>31862</th>\n",
       "      <td>Angela Paxton</td>\n",
       "      <td>R</td>\n",
       "      <td>State Senator District 8</td>\n",
       "    </tr>\n",
       "    <tr>\n",
       "      <th>11432</th>\n",
       "      <td>Ashley Hinson</td>\n",
       "      <td>R</td>\n",
       "      <td>Iowa Congressional District 2</td>\n",
       "    </tr>\n",
       "  </tbody>\n",
       "</table>\n",
       "</div>"
      ],
      "text/plain": [
       "                    name party                      usertitle\n",
       "14097  Jesse Tyler Pippy     R  House of Delegates District 4\n",
       "31862      Angela Paxton     R       State Senator District 8\n",
       "11432      Ashley Hinson     R  Iowa Congressional District 2"
      ]
     },
     "execution_count": 6,
     "metadata": {},
     "output_type": "execute_result"
    }
   ],
   "source": [
    "from genie_master import GenieMaster\n",
    "import pandas as pd\n",
    "import asyncio\n",
    "import aiohttp\n",
    "import time\n",
    "import tqdm.asyncio\n",
    "from tqdm import tqdm\n",
    "\n",
    "US_STATES = [\n",
    "    \"Alabama\", \"Alaska\", \"Arizona\", \"Arkansas\", \"California\", \"Colorado\", \"Connecticut\", \"Delaware\",\n",
    "    \"Florida\", \"Georgia\", \"Hawaii\", \"Idaho\", \"Illinois\", \"Indiana\", \"Iowa\", \"Kansas\", \"Kentucky\",\n",
    "    \"Louisiana\", \"Maine\", \"Maryland\", \"Massachusetts\", \"Michigan\", \"Minnesota\", \"Mississippi\",\n",
    "    \"Missouri\", \"Montana\", \"Nebraska\", \"Nevada\", \"New Hampshire\", \"New Jersey\", \"New Mexico\",\n",
    "    \"New York\", \"North Carolina\", \"North Dakota\", \"Ohio\", \"Oklahoma\", \"Oregon\", \"Pennsylvania\",\n",
    "    \"Rhode Island\", \"South Carolina\", \"South Dakota\", \"Tennessee\", \"Texas\", \"Utah\", \"Vermont\",\n",
    "    \"Virginia\", \"Washington\", \"West Virginia\", \"Wisconsin\", \"Wyoming\"\n",
    "]\n",
    "\n",
    "db_path = \"./chroma_qadata_db\"\n",
    "gm = GenieMaster(db_path=db_path)\n",
    "\n",
    "if os.path.exists(\"./data/all_people\"):\n",
    "    df_people = pd.read_pickle(\"./data/all_people\")\n",
    "else:\n",
    "    df = pd.read_pickle(\"./data/mod_qadata\")\n",
    "    df_people = df.drop_duplicates(subset='name')[['name', 'party', 'usertitle']]\n",
    "print(\"# of people:\", df_people.shape[0])\n",
    "df_people.sample(3)"
   ]
  },
  {
   "cell_type": "code",
   "execution_count": 9,
   "metadata": {},
   "outputs": [],
   "source": [
    "df_people.to_pickle(\"./data/all_people\")"
   ]
  },
  {
   "cell_type": "code",
   "execution_count": 42,
   "metadata": {},
   "outputs": [],
   "source": [
    "async def process_row(session, genie, row, output_path, container):\n",
    "    output = await genie.async_ask(row[\"question\"])\n",
    "    result = output[\"result\"]\n",
    "\n",
    "    row['answer'] = result.get('answer', \"\")\n",
    "    row['reasoning'] = result.get('reasoning', \"\")\n",
    "    row['evidence'] = result.get('evidence', \"\")\n",
    "    \n",
    "    if output[\"source_documents\"]:\n",
    "        source_doc = output[\"source_documents\"][0]\n",
    "        row['source_content'] = source_doc['source_content']\n",
    "        row['source_category'] = source_doc['source_category']\n",
    "        row['source_sub_category'] = source_doc['source_sub_category']\n",
    "    \n",
    "    row['cost'] = output[\"total_cost\"]\n",
    "    new_row_df = pd.DataFrame([row])\n",
    "    new_row_df.to_csv(output_path, mode='a', header=False, index=False)\n",
    "\n",
    "    container[0] += output[\"total_cost\"]\n",
    "\n",
    "    return row\n",
    "\n",
    "async def process_rows(df, genies, output_path, include_header=False):\n",
    "    container = [0] # cost\n",
    "    async with aiohttp.ClientSession() as session:\n",
    "        tasks = []\n",
    "        for _, row in df.iterrows():\n",
    "            genie = genies[row[\"name\"]]\n",
    "            task = process_row(session, genie, row.copy(), output_path, container)\n",
    "            tasks.append(task)\n",
    "        processed_rows = await asyncio.gather(*tasks)\n",
    "    \n",
    "    processed_df = pd.DataFrame(processed_rows)\n",
    "    # processed_df.to_csv(output_path, index=False)  # Save as CSV\n",
    "\n",
    "    return processed_df\n",
    "            \n",
    "async def main(df, model_name=\"gpt-3.5-turbo\", output_file='./result/output.csv', clear_file=True):\n",
    "    genies = {name: gm.get_genie(name, model_name=model_name) for name in df.name.unique()}\n",
    "    if clear_file:\n",
    "        open(output_file, 'w').close() # erase content inside csv file\n",
    "\n",
    "    RPM = 10\n",
    "    # rate limit for gpt-4: 40,000 tokens/min, 200 req/min. For this purpose, 40K TPM / 750 Tokens per Requests =  ~50 RPM < 200 RPM. So let's limit it to 50 RPM\n",
    "    if model_name == \"gpt-4\":\n",
    "        RPM = 50\n",
    "    # rate limit for gpt-3.5: 90,000 TPM, 3500 req/min. For this purpose, 90K/750 = 120. So let's limit it to 120\n",
    "    if model_name == \"gpt-3.5-turbo\":\n",
    "        RPM = 120\n",
    "    \n",
    "    batch_size = round(RPM * 0.9)\n",
    "\n",
    "    cost_benchmarks = [0.01, 0.1, 1, 5] + list(range(10, 110, 10))\n",
    "    curr_bm = 0\n",
    "    curr_cost = 0\n",
    "\n",
    "    processed_rows_list = []\n",
    "    num_rows = df.shape[0]\n",
    "    for batch_start in tqdm(range(0, num_rows, batch_size), desc=\"Processing rows\", total=num_rows):\n",
    "        batch_end = min(batch_start + batch_size, num_rows)\n",
    "        df_batch = df.iloc[batch_start:batch_end]\n",
    "\n",
    "        processed_rows = await process_rows(df_batch, genies, output_file)\n",
    "        processed_rows_list.append(processed_rows)\n",
    "\n",
    "        curr_cost += processed_rows['cost'].sum()\n",
    "        if curr_cost.sum() > cost_benchmarks[curr_bm]:\n",
    "            print(f\"Cost exceeded {cost_benchmarks[curr_bm]}: {round(curr_cost, 4)}\")\n",
    "            curr_bm += 1\n",
    "\n",
    "        time.sleep(60)\n",
    "    new_df = pd.concat(processed_rows_list)\n",
    "\n",
    "    print(\"Total cost:\", new_df['cost'].sum())\n",
    "    return new_df"
   ]
  },
  {
   "cell_type": "code",
   "execution_count": 5,
   "metadata": {},
   "outputs": [],
   "source": [
    "def seq_process_row(row, genie):\n",
    "    output = genie.ask(row[\"question\"])\n",
    "    result = output[\"result\"]\n",
    "\n",
    "    row['answer'] = result.get('answer', \"\")\n",
    "    row['reasoning'] = result.get('reasoning', \"\")\n",
    "    row['evidence'] = result.get('evidence', \"\")\n",
    "    \n",
    "    if output[\"source_documents\"]:\n",
    "        source_doc = output[\"source_documents\"][0]\n",
    "        row['source_content'] = source_doc['source_content']\n",
    "        row['source_category'] = source_doc['source_category']\n",
    "        row['source_sub_category'] = source_doc['source_sub_category']\n",
    "    \n",
    "    row['cost'] = output[\"total_cost\"]\n",
    "    \n",
    "    return row\n",
    "\n",
    "def seq_main(df, batch_size=10):\n",
    "    output_excel_path = './output.xlsx'\n",
    "    genies = {name: gm.get_genie(name) for name in df.name.values}\n",
    "    df_results = pd.DataFrame()\n",
    "    for _, row in df.iterrows():\n",
    "        df_results = pd.concat([df_results, seq_process_row(row, genies[row['name']])])\n",
    "        if df_results.shape[0] % batch_size == 0:\n",
    "            df_results.to_excel(output_excel_path)\n",
    "    df_results.to_excel(output_excel_path)\n",
    "    df = df_results\n"
   ]
  },
  {
   "cell_type": "markdown",
   "metadata": {},
   "source": [
    "# Questions"
   ]
  },
  {
   "cell_type": "code",
   "execution_count": 6,
   "metadata": {},
   "outputs": [],
   "source": [
    "questions = [\n",
    "    \"Should the government reduce spending on medicare or social security programs?\", # social security and medicare\n",
    "    \"Should the government forgive student loan?\", # education\n",
    "    \"Should the government regulate what is being taught in school?\", # education\n",
    "    \"Should abortion be legal?\", # abortion\n",
    "    \"Should there be stricter gun control laws?\", # gun control\n",
    "    \"Should the U.S. government maintain and possibly expand spending on foreign aid?\", # foreign policy\n",
    "    \"Should there be stricter border control measures?\", # immigration\n",
    "    \"Should LGBTQ issues be included in school curricula?\", # LGBTQ, education\n",
    "    \"Do you support transgender individuals' access to gender-affirming healthcare?\", # LGBTQ\n",
    "    \"Do you support qualified immunity for police officers?\", # crime\n",
    "]\n",
    "questions = [q.lower() for q in questions]"
   ]
  },
  {
   "cell_type": "code",
   "execution_count": 7,
   "metadata": {},
   "outputs": [
    {
     "name": "stdout",
     "output_type": "stream",
     "text": [
      "Number of rows: 42810\n"
     ]
    },
    {
     "data": {
      "text/html": [
       "<div>\n",
       "<style scoped>\n",
       "    .dataframe tbody tr th:only-of-type {\n",
       "        vertical-align: middle;\n",
       "    }\n",
       "\n",
       "    .dataframe tbody tr th {\n",
       "        vertical-align: top;\n",
       "    }\n",
       "\n",
       "    .dataframe thead th {\n",
       "        text-align: right;\n",
       "    }\n",
       "</style>\n",
       "<table border=\"1\" class=\"dataframe\">\n",
       "  <thead>\n",
       "    <tr style=\"text-align: right;\">\n",
       "      <th></th>\n",
       "      <th>name</th>\n",
       "      <th>party</th>\n",
       "      <th>usertitle</th>\n",
       "      <th>question</th>\n",
       "    </tr>\n",
       "  </thead>\n",
       "  <tbody>\n",
       "    <tr>\n",
       "      <th>0</th>\n",
       "      <td>Joe Biden</td>\n",
       "      <td>D</td>\n",
       "      <td>US President</td>\n",
       "      <td>should the government reduce spending on medic...</td>\n",
       "    </tr>\n",
       "    <tr>\n",
       "      <th>1</th>\n",
       "      <td>Joe Biden</td>\n",
       "      <td>D</td>\n",
       "      <td>US President</td>\n",
       "      <td>should the government forgive student loan?</td>\n",
       "    </tr>\n",
       "    <tr>\n",
       "      <th>2</th>\n",
       "      <td>Joe Biden</td>\n",
       "      <td>D</td>\n",
       "      <td>US President</td>\n",
       "      <td>should the government regulate what is being t...</td>\n",
       "    </tr>\n",
       "    <tr>\n",
       "      <th>3</th>\n",
       "      <td>Joe Biden</td>\n",
       "      <td>D</td>\n",
       "      <td>US President</td>\n",
       "      <td>should abortion be legal?</td>\n",
       "    </tr>\n",
       "    <tr>\n",
       "      <th>4</th>\n",
       "      <td>Joe Biden</td>\n",
       "      <td>D</td>\n",
       "      <td>US President</td>\n",
       "      <td>should there be stricter gun control laws?</td>\n",
       "    </tr>\n",
       "  </tbody>\n",
       "</table>\n",
       "</div>"
      ],
      "text/plain": [
       "        name party     usertitle  \\\n",
       "0  Joe Biden     D  US President   \n",
       "1  Joe Biden     D  US President   \n",
       "2  Joe Biden     D  US President   \n",
       "3  Joe Biden     D  US President   \n",
       "4  Joe Biden     D  US President   \n",
       "\n",
       "                                            question  \n",
       "0  should the government reduce spending on medic...  \n",
       "1        should the government forgive student loan?  \n",
       "2  should the government regulate what is being t...  \n",
       "3                          should abortion be legal?  \n",
       "4         should there be stricter gun control laws?  "
      ]
     },
     "execution_count": 7,
     "metadata": {},
     "output_type": "execute_result"
    }
   ],
   "source": [
    "people_tuples = df_people.values.tolist()\n",
    "combinations = [tup + [q] for tup in people_tuples for q in questions]\n",
    "df_all = pd.DataFrame(combinations, columns=['name', 'party', 'usertitle', 'question'])\n",
    "\n",
    "print(\"Number of rows:\", df_all.shape[0])\n",
    "df_all.iloc[:5]"
   ]
  },
  {
   "cell_type": "markdown",
   "metadata": {},
   "source": [
    "# Senators"
   ]
  },
  {
   "cell_type": "code",
   "execution_count": 43,
   "metadata": {},
   "outputs": [
    {
     "name": "stdout",
     "output_type": "stream",
     "text": [
      "40\n"
     ]
    },
    {
     "data": {
      "text/html": [
       "<div>\n",
       "<style scoped>\n",
       "    .dataframe tbody tr th:only-of-type {\n",
       "        vertical-align: middle;\n",
       "    }\n",
       "\n",
       "    .dataframe tbody tr th {\n",
       "        vertical-align: top;\n",
       "    }\n",
       "\n",
       "    .dataframe thead th {\n",
       "        text-align: right;\n",
       "    }\n",
       "</style>\n",
       "<table border=\"1\" class=\"dataframe\">\n",
       "  <thead>\n",
       "    <tr style=\"text-align: right;\">\n",
       "      <th></th>\n",
       "      <th>name</th>\n",
       "      <th>party</th>\n",
       "      <th>usertitle</th>\n",
       "      <th>question</th>\n",
       "    </tr>\n",
       "  </thead>\n",
       "  <tbody>\n",
       "    <tr>\n",
       "      <th>12193</th>\n",
       "      <td>Jerry Moran</td>\n",
       "      <td>R</td>\n",
       "      <td>Kansas Senator</td>\n",
       "      <td>should abortion be legal?</td>\n",
       "    </tr>\n",
       "    <tr>\n",
       "      <th>12999</th>\n",
       "      <td>Mitch McConnell</td>\n",
       "      <td>R</td>\n",
       "      <td>Kentucky Senator</td>\n",
       "      <td>do you support qualified immunity for police o...</td>\n",
       "    </tr>\n",
       "    <tr>\n",
       "      <th>4757</th>\n",
       "      <td>Christopher Coons</td>\n",
       "      <td>D</td>\n",
       "      <td>Delaware Senator</td>\n",
       "      <td>should lgbtq issues be included in school curr...</td>\n",
       "    </tr>\n",
       "    <tr>\n",
       "      <th>32625</th>\n",
       "      <td>Jack Reed</td>\n",
       "      <td>D</td>\n",
       "      <td>Rhode Island Senator</td>\n",
       "      <td>should the u.s. government maintain and possib...</td>\n",
       "    </tr>\n",
       "    <tr>\n",
       "      <th>17695</th>\n",
       "      <td>Tina Smith</td>\n",
       "      <td>D</td>\n",
       "      <td>Minnesota Senator</td>\n",
       "      <td>should the u.s. government maintain and possib...</td>\n",
       "    </tr>\n",
       "  </tbody>\n",
       "</table>\n",
       "</div>"
      ],
      "text/plain": [
       "                    name party             usertitle  \\\n",
       "12193        Jerry Moran     R        Kansas Senator   \n",
       "12999    Mitch McConnell     R      Kentucky Senator   \n",
       "4757   Christopher Coons     D      Delaware Senator   \n",
       "32625          Jack Reed     D  Rhode Island Senator   \n",
       "17695         Tina Smith     D     Minnesota Senator   \n",
       "\n",
       "                                                question  \n",
       "12193                          should abortion be legal?  \n",
       "12999  do you support qualified immunity for police o...  \n",
       "4757   should lgbtq issues be included in school curr...  \n",
       "32625  should the u.s. government maintain and possib...  \n",
       "17695  should the u.s. government maintain and possib...  "
      ]
     },
     "execution_count": 43,
     "metadata": {},
     "output_type": "execute_result"
    }
   ],
   "source": [
    "pattern = r'^(?i)(' + '|'.join(US_STATES) + r')\\s+senator$'\n",
    "\n",
    "# Filter rows with values that match the pattern\n",
    "df_senators = df_all[df_all['usertitle'].str.match(pattern, na=False)].sample(40)\n",
    "print(df_senators.shape[0])\n",
    "df_senators.iloc[:5]"
   ]
  },
  {
   "cell_type": "code",
   "execution_count": 46,
   "metadata": {},
   "outputs": [
    {
     "name": "stderr",
     "output_type": "stream",
     "text": [
      "Processing rows:   0%|          | 0/4 [00:00<?, ?it/s]"
     ]
    },
    {
     "name": "stdout",
     "output_type": "stream",
     "text": [
      "Cost exceeded 0.01: 0.012\n"
     ]
    },
    {
     "name": "stderr",
     "output_type": "stream",
     "text": [
      "Processing rows:  25%|██▌       | 1/4 [01:07<03:23, 67.88s/it]"
     ]
    }
   ],
   "source": [
    "model_name=\"gpt-3.5-turbo\"\n",
    "output_file=\"./result/senators.csv\"\n",
    "s = time.perf_counter()\n",
    "df_senators = await main(df_senators, model_name=model_name, output_file=output_file, clear_file=True)\n",
    "elapsed = time.perf_counter() - s\n",
    "print(\"\\033[1m\" + f\"Concurrent executed in {elapsed:0.2f} seconds.\" + \"\\033[0m\")"
   ]
  },
  {
   "cell_type": "markdown",
   "metadata": {},
   "source": [
    "## clean up leftovers"
   ]
  },
  {
   "cell_type": "code",
   "execution_count": null,
   "metadata": {},
   "outputs": [],
   "source": [
    "df_temp_senators = pd.read_csv(\"result/senators.csv\", header=None)\n",
    "df_temp_senators.columns = [\"name\", \"party\", \"usertitle\", \"question\", \"answer\", \"reasoning\", \"evidence\", \"source_content\", \"source_category\", \"source_sub_category\", \"cost\"]\n",
    "df_temp_senators.iloc[:3]"
   ]
  },
  {
   "cell_type": "code",
   "execution_count": 32,
   "metadata": {},
   "outputs": [],
   "source": [
    "# Merge the two DataFrames and mark the rows using an indicator\n",
    "merged = df_senators.merge(df_temp_senators[[\"name\", \"party\", \"usertitle\", \"question\"]], on=['name', \"party\", \"usertitle\", 'question'], how='left', indicator=True)\n",
    "\n",
    "# Filter the rows to keep only those not present in both DataFrames\n",
    "result_df = merged[merged['_merge'] == 'left_only']\n",
    "\n",
    "# Drop the '_merge' column, which was used for indication\n",
    "result_df = result_df.drop(columns=['_merge'])\n",
    "result_df.to_pickle(\"./data/remaining_senators\")"
   ]
  },
  {
   "cell_type": "code",
   "execution_count": null,
   "metadata": {},
   "outputs": [],
   "source": [
    "df_remaining_senators = pd.read_pickle(\"./data/remaining_senators\")\n",
    "model_name=\"gpt-3.5-turbo\"\n",
    "output_file=\"./result/senators.csv\"\n",
    "s = time.perf_counter()\n",
    "df_remaining_senators = await main(df_remaining_senators, model_name=model_name, output_file=output_file, clear_file=False)\n",
    "elapsed = time.perf_counter() - s\n",
    "print(\"\\033[1m\" + f\"Concurrent executed in {elapsed:0.2f} seconds.\" + \"\\033[0m\")"
   ]
  },
  {
   "cell_type": "markdown",
   "metadata": {},
   "source": [
    "# Congress"
   ]
  },
  {
   "cell_type": "markdown",
   "metadata": {},
   "source": [
    "# Governor"
   ]
  },
  {
   "cell_type": "markdown",
   "metadata": {},
   "source": [
    "# "
   ]
  },
  {
   "cell_type": "markdown",
   "metadata": {},
   "source": [
    "# Delete Database to save space"
   ]
  },
  {
   "cell_type": "code",
   "execution_count": null,
   "metadata": {},
   "outputs": [],
   "source": [
    "!rm -rf ./chroma_qadata_db"
   ]
  }
 ],
 "metadata": {
  "kernelspec": {
   "display_name": "uslong",
   "language": "python",
   "name": "python3"
  },
  "language_info": {
   "codemirror_mode": {
    "name": "ipython",
    "version": 3
   },
   "file_extension": ".py",
   "mimetype": "text/x-python",
   "name": "python",
   "nbconvert_exporter": "python",
   "pygments_lexer": "ipython3",
   "version": "3.10.11"
  },
  "orig_nbformat": 4
 },
 "nbformat": 4,
 "nbformat_minor": 2
}
