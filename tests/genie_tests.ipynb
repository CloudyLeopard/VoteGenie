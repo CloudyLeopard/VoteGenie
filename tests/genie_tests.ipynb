{
 "cells": [
  {
   "cell_type": "code",
   "execution_count": 1,
   "metadata": {},
   "outputs": [],
   "source": [
    "from genie_master import GenieMaster"
   ]
  },
  {
   "cell_type": "code",
   "execution_count": 2,
   "metadata": {},
   "outputs": [],
   "source": [
    "gm = GenieMaster(db_path=\"./chroma_qadata_db\")\n",
    "name = \"Joe Biden\""
   ]
  },
  {
   "cell_type": "code",
   "execution_count": null,
   "metadata": {},
   "outputs": [],
   "source": [
    "from chromaviz import visualize_collection\n",
    "\n",
    "visualize_collection(gm.get_vectorstore()._collection)"
   ]
  },
  {
   "cell_type": "code",
   "execution_count": null,
   "metadata": {},
   "outputs": [],
   "source": [
    "# Loading in Data (skip this cell if already done)\n",
    "import re\n",
    "import pandas as pd\n",
    "\n",
    "def preprocess_quote(quote):\n",
    "    # Replace missing spaces with space\n",
    "    preprocessed_quote = re.sub(r\"(?<=[a-z])(?=[A-Z])\", \" \", quote)\n",
    "\n",
    "    # ...\n",
    "    # add more if necessary\n",
    "\n",
    "    return preprocessed_quote\n",
    "\n",
    "df = pd.read_excel(\"data/qadata.xlsx\")\n",
    "df[[\"name\", \"party\"]] = df.username.str.split(\" - \", expand=True).apply(\n",
    "    lambda x: x.str.strip()\n",
    ")\n",
    "df = df.drop([\"username\"], axis=1)\n",
    "\n",
    "# taking only a portion of the data for now\n",
    "category_list = [\n",
    "    \"Abortion, Pro-Life & Genetic Engineering\",\n",
    "    \"Crime, Police & Imprisonment\",\n",
    "    \"Environment & Climate Change\",\n",
    "    \"Gun & Property Rights\",\n",
    "    \"Immigration, Border Security, Terrorism & Homeland Security\",\n",
    "    \"Jobs, Economy, Trade, Business, Industry & Agriculture\",\n",
    "    \"Education & Schools\",\n",
    "]\n",
    "df = df.loc[df.parent_question.isin(category_list)]\n",
    "df[\"answer\"] = df[\"answer\"].apply(preprocess_quote)\n",
    "\n",
    "# removing None values in \"party\"\n",
    "df[\"party\"] = df[\"party\"].apply(lambda p: p if p else \"Other\")\n",
    "\n",
    "gm.transform_and_store_data(df, page_content_column=\"answer\")"
   ]
  },
  {
   "cell_type": "code",
   "execution_count": 3,
   "metadata": {},
   "outputs": [],
   "source": [
    "question = \"Do you support limiting police unions' collective bargaining power for cases involving misconduct?\"\n",
    "genie = gm.get_genie(name)"
   ]
  },
  {
   "cell_type": "code",
   "execution_count": 4,
   "metadata": {},
   "outputs": [
    {
     "data": {
      "text/plain": [
       "{'query': \"Do you support limiting police unions' collective bargaining power for cases involving misconduct?\",\n",
       " 'result': {'answer': 'unknown',\n",
       "  'reasoning': \"There is no explicit statement in the given context that indicates whether the person supports or opposes limiting police unions' collective bargaining power for cases involving misconduct.\"},\n",
       " 'source_documents': [{'source_content': \"pattern-or-practice investigations and consent decrees to address circumstances of “systemic police misconduct” and to “restore trust between police and communities” in cities such as Ferguson. Yet, the Trump Administration’s Justice Department has limited thejoebiden.com/justice/ (08/07/2019)In the 1990s, the Biden Crime Bill added 100,000 cops to America's streets. As a result, murder and violent crime rates went down eight years in a row. George Bush's cuts to the program have put America at\",\n",
       "   'source_category': 'Crime, Police & Imprisonment',\n",
       "   'source_sub_category': 'Police Reform'},\n",
       "  {'source_content': 'and prosecutors’ offices. Using authority in legislation spearheaded by Biden as senator, the Obama-Biden Justice Department used pattern-or-practice investigations and consent decrees to address circumstances of “systemic police misconduct” and to “restore trust between police and communities” in cities such as Ferguson. Yet, the Trump Administration’s Justice Department has limited the use of this tool. For example,joebiden.com/justice/ (08/07/2019)',\n",
       "   'source_category': 'Civil, Religious, LGBTQ & Human Rights',\n",
       "   'source_sub_category': 'Racial Discrimination & Disparities'},\n",
       "  {'source_content': 'When a police officer pins on that shield and walks out the door, the officer’s family should know they’ll come home at the end of the day. Additionally, women and children are uniquely impacted by the criminal justice system, and the system needs to address their unique needs Expand and use the power of the U.S. Justice Department to address systemic misconduct in police departments. Using authority in legislation spearheaded by Biden as senator, the Obama-Biden Justice Department used',\n",
       "   'source_category': 'Crime, Police & Imprisonment',\n",
       "   'source_sub_category': 'Police Reform'},\n",
       "  {'source_content': 'We have to stop Republican attempts to strip away workers’ rights to form unions and collectively bargain.joebiden.com/joes-vision/ (08/10/2019)Senator Biden is a co-sponsor of the Employee Free Choice Act, a bill to ensure workers can form, join, or assist labor unions without interference from employers.biden.senate.gov/issues (04/21/2008)',\n",
       "   'source_category': 'Labor, Wages & Unions',\n",
       "   'source_sub_category': 'Unions and Collective Bargaining'}],\n",
       " 'total_tokens': 701,\n",
       " 'total_cost': 0.001072}"
      ]
     },
     "execution_count": 4,
     "metadata": {},
     "output_type": "execute_result"
    }
   ],
   "source": [
    "genie.ask(question)"
   ]
  },
  {
   "cell_type": "code",
   "execution_count": null,
   "metadata": {},
   "outputs": [],
   "source": [
    "genie.get_relevant_documents(question)"
   ]
  },
  {
   "cell_type": "code",
   "execution_count": null,
   "metadata": {},
   "outputs": [],
   "source": [
    "# *** TESTING DOCUMENT TRANSFORMATION ***\n",
    "# TODO: Test different text splits\n",
    "# Default: Recursively split by characters\n",
    "\n",
    "# Split by characters\n",
    "# Split by tokens"
   ]
  },
  {
   "cell_type": "code",
   "execution_count": null,
   "metadata": {},
   "outputs": [],
   "source": [
    "# *** TESTING TESTING EMBEDDING ***\n",
    "# TODO: Test different embedding methods"
   ]
  },
  {
   "cell_type": "code",
   "execution_count": null,
   "metadata": {},
   "outputs": [],
   "source": [
    "# *** CHANGING VECTOR STORAGE ***\n",
    "# TODO: Production ready vectorstores"
   ]
  },
  {
   "cell_type": "code",
   "execution_count": null,
   "metadata": {},
   "outputs": [],
   "source": [
    "# *** TESTING RETRIEVER (relevant document) ***\n",
    "# TODO: Change k for retrievers\n",
    "# k = 4 (default)\n",
    "# k = 2\n",
    "# k = 8\n",
    "\n",
    "# TODO: Testing MultiQueryRetriever\n",
    "# https://python.langchain.com/docs/modules/data_connection/retrievers/MultiQueryRetriever\n",
    "# Default MultiQuery\n",
    "# Custom prompt\n",
    "\n",
    "# TODO: Test compression retrievers\n",
    "# vanilla (no compressor)\n",
    "# LLMChainExtractor: run each doc through llm to extract sentences related to query\n",
    "# LLMChainFilter: run each doc through llm and only keep docs that are relevant\n",
    "# EmbeddingsFilter: embed each doc and only keep docs with sim score above threshold\n",
    "# Stringing compressors and doc transformers: e.g. split text first then run filter\n",
    "\n",
    "# TODO: Test Ensemble retriever\n",
    "# https://python.langchain.com/docs/modules/data_connection/retrievers/ensemble\n",
    "# An addition to just by similarity (more complex basically)\n"
   ]
  },
  {
   "cell_type": "code",
   "execution_count": null,
   "metadata": {},
   "outputs": [],
   "source": [
    "# *** TESTING QA CHAIN ***\n",
    "# TODO: Test different qa chain types\n",
    "# https://docs.langchain.com/docs/components/chains/index_related_chains"
   ]
  },
  {
   "cell_type": "code",
   "execution_count": null,
   "metadata": {},
   "outputs": [],
   "source": [
    "# *** TESTING POST RESULT ***\n",
    "# TODO: Test different output parsers\n",
    "\n",
    "# default: stuff\n",
    "genie_refine = gm.get_genie(name, qa_chain_type=\"refine\") # should be second best\n",
    "genie_reduce = gm.get_genie(name, qa_chain_type=\"map_reduce\") # should be best\n",
    "genie_rerank = gm.get_genie(name, qa_chain_type=\"map_rerank\") # not applicable i believe\n",
    "\n",
    "# TODO: Cite sources\n"
   ]
  },
  {
   "cell_type": "code",
   "execution_count": null,
   "metadata": {},
   "outputs": [],
   "source": [
    "# *** OTHERS ***\n",
    "# TODO: Fuzzy match\n",
    "\n",
    "# TODO: Async\n",
    "\n",
    "# TODO: Local LLMs\n",
    "\n",
    "# TODO: Logging\n",
    "# https://python.langchain.com/docs/modules/callbacks/filecallbackhandler\n",
    "\n",
    "# TODO: WebResearchRetriever (later when im bored lol)\n",
    "# https://python.langchain.com/docs/modules/data_connection/retrievers/web_research"
   ]
  }
 ],
 "metadata": {
  "kernelspec": {
   "display_name": "uslong",
   "language": "python",
   "name": "python3"
  },
  "language_info": {
   "codemirror_mode": {
    "name": "ipython",
    "version": 3
   },
   "file_extension": ".py",
   "mimetype": "text/x-python",
   "name": "python",
   "nbconvert_exporter": "python",
   "pygments_lexer": "ipython3",
   "version": "3.10.11"
  },
  "orig_nbformat": 4
 },
 "nbformat": 4,
 "nbformat_minor": 2
}
