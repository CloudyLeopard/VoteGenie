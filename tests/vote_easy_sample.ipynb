{
 "cells": [
  {
   "cell_type": "code",
   "execution_count": null,
   "metadata": {},
   "outputs": [],
   "source": [
    "from genie_master import GenieMaster"
   ]
  },
  {
   "cell_type": "code",
   "execution_count": null,
   "metadata": {},
   "outputs": [],
   "source": [
    "gm = GenieMaster(db_path=\"./chroma_qadata_db\")"
   ]
  },
  {
   "cell_type": "code",
   "execution_count": null,
   "metadata": {},
   "outputs": [],
   "source": [
    "import chromadb\n",
    "client = chromadb.PersistentClient(path=\"./chroma_qadata_db\")\n",
    "collection = client.get_collection(name=\"langchain\")"
   ]
  },
  {
   "cell_type": "markdown",
   "metadata": {},
   "source": [
    "# Prepping vector store"
   ]
  },
  {
   "cell_type": "code",
   "execution_count": null,
   "metadata": {},
   "outputs": [],
   "source": [
    "# Loading in Data (skip this cell if already done)\n",
    "import re\n",
    "import pandas as pd\n",
    "\n",
    "def preprocess_quote(quote):\n",
    "    # Replace missing spaces with space\n",
    "    preprocessed_quote = re.sub(r\"(?<=[a-z])(?=[A-Z])\", \" \", quote)\n",
    "\n",
    "    # ...\n",
    "    # add more if necessary\n",
    "\n",
    "    return preprocessed_quote\n",
    "\n",
    "df = pd.read_excel(\"data/qadata.xlsx\")\n",
    "df[[\"name\", \"party\"]] = df.username.str.split(\" - \", expand=True).apply(\n",
    "    lambda x: x.str.strip()\n",
    ")\n",
    "df = df.drop([\"username\"], axis=1)\n",
    "\n",
    "df[\"answer\"] = df[\"answer\"].apply(preprocess_quote)\n",
    "\n",
    "# removing None values in \"party\"\n",
    "df[\"party\"] = df[\"party\"].apply(lambda p: p if p else \"Other\")\n",
    "df.to_pickle(\"./data/mod_qadata\")\n",
    "df.sample(5)"
   ]
  },
  {
   "cell_type": "code",
   "execution_count": null,
   "metadata": {},
   "outputs": [],
   "source": [
    "import pandas as pd\n",
    "df = pd.read_pickle(\"./data/mod_qadata\")\n",
    "df"
   ]
  },
  {
   "cell_type": "code",
   "execution_count": null,
   "metadata": {},
   "outputs": [],
   "source": [
    "# sample_df = df.sample(20)\n",
    "gm.transform_and_add_data(sample_df, page_content_column=\"answer\")"
   ]
  },
  {
   "cell_type": "code",
   "execution_count": null,
   "metadata": {},
   "outputs": [],
   "source": [
    "# Zip database\n",
    "!zip -r chroma_qadata_db.zip ./chroma_qadata_db"
   ]
  },
  {
   "cell_type": "code",
   "execution_count": null,
   "metadata": {},
   "outputs": [],
   "source": [
    "# delete the directory\n",
    "!rm -rf ./chroma_qadata_db"
   ]
  },
  {
   "cell_type": "code",
   "execution_count": null,
   "metadata": {},
   "outputs": [],
   "source": [
    "!unzip chroma_qadata_db.zip"
   ]
  },
  {
   "cell_type": "code",
   "execution_count": null,
   "metadata": {},
   "outputs": [],
   "source": [
    "names = df.name.unique()\n",
    "len(names)"
   ]
  },
  {
   "cell_type": "markdown",
   "metadata": {},
   "source": [
    "# Retrieval QA"
   ]
  },
  {
   "cell_type": "code",
   "execution_count": 2,
   "metadata": {},
   "outputs": [
    {
     "data": {
      "text/plain": [
       "True"
      ]
     },
     "execution_count": 2,
     "metadata": {},
     "output_type": "execute_result"
    }
   ],
   "source": [
    "import random\n",
    "import numpy as np\n",
    "import pandas as pd\n",
    "\n",
    "# Summoning the genie master :D\n",
    "from genie_master import GenieMaster\n",
    "gm = GenieMaster(db_path=\"./chroma_qadata_db\")\n",
    "gm.model_is_ready()"
   ]
  },
  {
   "cell_type": "code",
   "execution_count": 3,
   "metadata": {},
   "outputs": [
    {
     "data": {
      "text/html": [
       "<div>\n",
       "<style scoped>\n",
       "    .dataframe tbody tr th:only-of-type {\n",
       "        vertical-align: middle;\n",
       "    }\n",
       "\n",
       "    .dataframe tbody tr th {\n",
       "        vertical-align: top;\n",
       "    }\n",
       "\n",
       "    .dataframe thead th {\n",
       "        text-align: right;\n",
       "    }\n",
       "</style>\n",
       "<table border=\"1\" class=\"dataframe\">\n",
       "  <thead>\n",
       "    <tr style=\"text-align: right;\">\n",
       "      <th></th>\n",
       "      <th>name</th>\n",
       "      <th>Count</th>\n",
       "    </tr>\n",
       "  </thead>\n",
       "  <tbody>\n",
       "    <tr>\n",
       "      <th>1229</th>\n",
       "      <td>Elizabeth Warren</td>\n",
       "      <td>614</td>\n",
       "    </tr>\n",
       "    <tr>\n",
       "      <th>1894</th>\n",
       "      <td>Joe Biden</td>\n",
       "      <td>419</td>\n",
       "    </tr>\n",
       "    <tr>\n",
       "      <th>279</th>\n",
       "      <td>Bernie Sanders</td>\n",
       "      <td>349</td>\n",
       "    </tr>\n",
       "    <tr>\n",
       "      <th>85</th>\n",
       "      <td>Amy Klobuchar</td>\n",
       "      <td>292</td>\n",
       "    </tr>\n",
       "    <tr>\n",
       "      <th>1072</th>\n",
       "      <td>Dianne Feinstein</td>\n",
       "      <td>279</td>\n",
       "    </tr>\n",
       "    <tr>\n",
       "      <th>2190</th>\n",
       "      <td>Kamala Harris</td>\n",
       "      <td>242</td>\n",
       "    </tr>\n",
       "    <tr>\n",
       "      <th>3361</th>\n",
       "      <td>Richard Durbin</td>\n",
       "      <td>181</td>\n",
       "    </tr>\n",
       "    <tr>\n",
       "      <th>2623</th>\n",
       "      <td>Marco Rubio</td>\n",
       "      <td>164</td>\n",
       "    </tr>\n",
       "    <tr>\n",
       "      <th>2527</th>\n",
       "      <td>Lindsey Graham</td>\n",
       "      <td>163</td>\n",
       "    </tr>\n",
       "    <tr>\n",
       "      <th>3285</th>\n",
       "      <td>Rand Paul</td>\n",
       "      <td>155</td>\n",
       "    </tr>\n",
       "  </tbody>\n",
       "</table>\n",
       "</div>"
      ],
      "text/plain": [
       "                  name  Count\n",
       "1229  Elizabeth Warren    614\n",
       "1894         Joe Biden    419\n",
       "279     Bernie Sanders    349\n",
       "85       Amy Klobuchar    292\n",
       "1072  Dianne Feinstein    279\n",
       "2190     Kamala Harris    242\n",
       "3361    Richard Durbin    181\n",
       "2623       Marco Rubio    164\n",
       "2527    Lindsey Graham    163\n",
       "3285         Rand Paul    155"
      ]
     },
     "execution_count": 3,
     "metadata": {},
     "output_type": "execute_result"
    }
   ],
   "source": [
    "df = pd.read_pickle(\"./data/mod_qadata\")\n",
    "\n",
    "df_frequency = df.groupby(['name'])['answer'].count().reset_index(name='Count').sort_values(['Count'], ascending=False)\n",
    "df_frequency.iloc[:10]\n"
   ]
  },
  {
   "cell_type": "code",
   "execution_count": null,
   "metadata": {},
   "outputs": [],
   "source": [
    "# sample_politicians = random.sample(df.name.unique() .tolist(), 5)\n",
    "sample_politicians = df_frequency.sample(2).name.to_list()\n",
    "sample_politicians"
   ]
  },
  {
   "cell_type": "code",
   "execution_count": null,
   "metadata": {},
   "outputs": [],
   "source": [
    "questions = [\n",
    "    \"Should abortion be legal?\",\n",
    "    \"Should the government play a major role in regulating the economy?\",\n",
    "    \"Should there be more restrictions on the current process of purchasing a gun?\",\n",
    "    \"Should refugees be allowed to enter the United States?\",\n",
    "    \"Should the U.S. government continue to provide assistance to Ukraine in the war with Russia?\",\n",
    "    \"Should the government forgive student loan?\"\n",
    "]"
   ]
  },
  {
   "cell_type": "code",
   "execution_count": null,
   "metadata": {},
   "outputs": [],
   "source": [
    "# Create a list of tuples representing the combinations\n",
    "combinations = [(x, y) for x in questions for y in sample_politicians]\n",
    "\n",
    "# Create a DataFrame from the combinations\n",
    "df_answer = pd.DataFrame(combinations, columns=['question', 'name'])\n",
    "\n",
    "# Print the DataFrame\n",
    "print(df_answer.iloc[:5])\n",
    "print(\"Number of rows:\", df_answer.shape[0])"
   ]
  },
  {
   "cell_type": "code",
   "execution_count": null,
   "metadata": {},
   "outputs": [],
   "source": [
    "from tqdm import tqdm\n",
    "from tqdm.notebook import tqdm, tqdm_notebook\n",
    "tqdm_notebook.pandas()\n",
    "\n",
    "genies = {name: gm.get_genie(name) for name in sample_politicians}"
   ]
  },
  {
   "cell_type": "code",
   "execution_count": null,
   "metadata": {},
   "outputs": [],
   "source": [
    "import time\n",
    "import asyncio\n",
    "\n",
    "async def async_generate(row, genies):\n",
    "    genie = genies[row[\"name\"]]\n",
    "    response = await genie.async_ask(row[\"question\"])\n",
    "    print(row[\"name\"] + \" | \" + row[\"question\"])\n",
    "    print(response[\"result\"][\"answer\"] + \": \" + response[\"result\"][\"reasoning\"])\n",
    "\n",
    "async def generate_concurrently():\n",
    "    tasks = [async_generate(row, genies) for index, row in df_answer.iterrows()]\n",
    "    await asyncio.gather(*tasks)\n",
    "\n",
    "def generate_serially():\n",
    "    for index, row in df_answer.iterrows():\n",
    "        genie = genies[row[\"name\"]]\n",
    "        response = genie.ask(row[\"question\"])\n",
    "        print(row[\"name\"] + \" | \" + row[\"question\"])\n",
    "        print(response[\"result\"][\"answer\"] + \": \" + response[\"result\"][\"reasoning\"])\n",
    "\n",
    "s = time.perf_counter()\n",
    "await generate_concurrently()\n",
    "elapsed = time.perf_counter() - s\n",
    "print(\"\\033[1m\" + f\"Concurrent executed in {elapsed:0.2f} seconds.\" + \"\\033[0m\")\n",
    "\n",
    "print(\"\\n\\n\")\n",
    "s = time.perf_counter()\n",
    "generate_serially()\n",
    "elapsed = time.perf_counter() - s\n",
    "print(\"\\033[1m\" + f\"Serial executed in {elapsed:0.2f} seconds.\" + \"\\033[0m\")"
   ]
  },
  {
   "cell_type": "code",
   "execution_count": null,
   "metadata": {},
   "outputs": [],
   "source": [
    "import time\n",
    "import asyncio\n",
    "\n",
    "loop = asyncio.get_event_loop()\n",
    "\n",
    "async def async_generate(row, genies):\n",
    "    genie = genies[row[\"name\"]]\n",
    "    response = await genie.async_ask(row[\"question\"])\n",
    "    # also write to excel sheet as i do this\n",
    "    return response\n",
    "\n",
    "async def main():\n",
    "    tasks = [async_generate(row, genies) for _, row in df_answer.iterrows()]\n",
    "    df_answer['response_async'] = await asyncio.gather(*tasks)\n",
    "\n",
    "# https://stackoverflow.com/questions/67944791/fastest-way-to-apply-an-async-function-to-pandas-dataframe\n",
    "\n",
    "s = time.perf_counter()\n",
    "await main()\n",
    "elapsed = time.perf_counter() - s\n",
    "print(\"\\033[1m\" + f\"Concurrent executed in {elapsed:0.2f} seconds.\" + \"\\033[0m\")\n",
    "\n",
    "\n",
    "print(\"\\n\\n\")\n",
    "s = time.perf_counter()\n",
    "df_answer[\"response_serial\"] = df_answer.progress_apply(\n",
    "    lambda row: genies[row[\"name\"]].ask(row[\"question\"]),\n",
    "    axis=1\n",
    ")\n",
    "elapsed = time.perf_counter() - s\n",
    "print(\"\\033[1m\" + f\"Serial executed in {elapsed:0.2f} seconds.\" + \"\\033[0m\")"
   ]
  },
  {
   "cell_type": "code",
   "execution_count": null,
   "metadata": {},
   "outputs": [],
   "source": [
    "df_answer[\"answer\"] = df_answer[\"response\"].apply(lambda res: res[\"result\"][\"answer\"])\n",
    "df_answer[\"reasoning\"] = df_answer[\"response\"].apply(lambda res: res[\"result\"][\"reasoning\"])\n",
    "# source documents need further parsing\n",
    "df_answer[\"source_documents\"] = df_answer[\"response\"].apply(lambda res: res[\"source_documents\"])\n",
    "df_answer[\"cost\"] = df_answer[\"response\"].apply(lambda res: res[\"total_cost\"])\n",
    "df_answer.sample(5)"
   ]
  },
  {
   "cell_type": "code",
   "execution_count": null,
   "metadata": {},
   "outputs": [],
   "source": [
    "df_answer.cost.sum()"
   ]
  },
  {
   "cell_type": "code",
   "execution_count": null,
   "metadata": {},
   "outputs": [],
   "source": [
    "df_answer.to_pickle(\"./vote_easy_sample_dtf\")\n",
    "df_answer[[\"name\", \"question\", \"answer\", \"reasoning\"]].to_excel(\"vote_easy_sample_test.xlsx\")"
   ]
  }
 ],
 "metadata": {
  "kernelspec": {
   "display_name": "uslong",
   "language": "python",
   "name": "python3"
  },
  "language_info": {
   "codemirror_mode": {
    "name": "ipython",
    "version": 3
   },
   "file_extension": ".py",
   "mimetype": "text/x-python",
   "name": "python",
   "nbconvert_exporter": "python",
   "pygments_lexer": "ipython3",
   "version": "3.10.11"
  },
  "orig_nbformat": 4
 },
 "nbformat": 4,
 "nbformat_minor": 2
}
