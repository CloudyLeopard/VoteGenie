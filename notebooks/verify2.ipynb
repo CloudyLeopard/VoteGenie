{
 "cells": [
  {
   "cell_type": "markdown",
   "metadata": {},
   "source": [
    "https://docs.ragas.io/en/stable/getstarted/evaluation.html"
   ]
  },
  {
   "cell_type": "code",
   "execution_count": 1,
   "metadata": {},
   "outputs": [],
   "source": [
    "import json\n",
    "import os\n",
    "os.environ[\"OPENAI_API_KEY\"] = os.getenv(\"OPENAI_API_KEY\")\n",
    "\n",
    "from datasets import Dataset"
   ]
  },
  {
   "cell_type": "code",
   "execution_count": 2,
   "metadata": {},
   "outputs": [
    {
     "data": {
      "text/html": [
       "<div>\n",
       "<style scoped>\n",
       "    .dataframe tbody tr th:only-of-type {\n",
       "        vertical-align: middle;\n",
       "    }\n",
       "\n",
       "    .dataframe tbody tr th {\n",
       "        vertical-align: top;\n",
       "    }\n",
       "\n",
       "    .dataframe thead th {\n",
       "        text-align: right;\n",
       "    }\n",
       "</style>\n",
       "<table border=\"1\" class=\"dataframe\">\n",
       "  <thead>\n",
       "    <tr style=\"text-align: right;\">\n",
       "      <th></th>\n",
       "      <th>name</th>\n",
       "      <th>category</th>\n",
       "      <th>title</th>\n",
       "      <th>question</th>\n",
       "      <th>stance</th>\n",
       "      <th>reference</th>\n",
       "      <th>answer</th>\n",
       "      <th>reasoning</th>\n",
       "      <th>evidence</th>\n",
       "      <th>source_content</th>\n",
       "      <th>source_category</th>\n",
       "      <th>source_sub_category</th>\n",
       "      <th>cost</th>\n",
       "    </tr>\n",
       "  </thead>\n",
       "  <tbody>\n",
       "    <tr>\n",
       "      <th>0</th>\n",
       "      <td>Joe Biden</td>\n",
       "      <td>Social Issues</td>\n",
       "      <td>Abortion</td>\n",
       "      <td>Do you support women's right to abortion?</td>\n",
       "      <td>Yes</td>\n",
       "      <td>NaN</td>\n",
       "      <td>yes</td>\n",
       "      <td>Joe Biden has expressed clear support for a wo...</td>\n",
       "      <td>['I would work to enshrine into federal law th...</td>\n",
       "      <td>I would work to enshrine into federal law the ...</td>\n",
       "      <td>Abortion, Pro-Life &amp; Genetic Engineering</td>\n",
       "      <td>Roe v. Wade</td>\n",
       "      <td>0</td>\n",
       "    </tr>\n",
       "    <tr>\n",
       "      <th>1</th>\n",
       "      <td>Joe Biden</td>\n",
       "      <td>Social Issues</td>\n",
       "      <td>Gender transition</td>\n",
       "      <td>Should people under the age of 18 years old be...</td>\n",
       "      <td>Yes</td>\n",
       "      <td>NaN</td>\n",
       "      <td>yes</td>\n",
       "      <td>Joe Biden has expressed support for transgende...</td>\n",
       "      <td>[\"The fact of the matter is that we're in a po...</td>\n",
       "      <td>would be more expensive to treat if they had t...</td>\n",
       "      <td>Health &amp; Medical</td>\n",
       "      <td>Medically Uninsured or Underinsured</td>\n",
       "      <td>0</td>\n",
       "    </tr>\n",
       "    <tr>\n",
       "      <th>2</th>\n",
       "      <td>Joe Biden</td>\n",
       "      <td>Social Issues</td>\n",
       "      <td>Hate Speech</td>\n",
       "      <td>Should hate speech be protected by the first a...</td>\n",
       "      <td>No</td>\n",
       "      <td>NaN</td>\n",
       "      <td>unknown</td>\n",
       "      <td>The provided context does not contain a direct...</td>\n",
       "      <td>[]</td>\n",
       "      <td>[4:51] Former Vice President Joe Biden discuss...</td>\n",
       "      <td>Crime, Police &amp; Imprisonment</td>\n",
       "      <td>Hate Crimes</td>\n",
       "      <td>0</td>\n",
       "    </tr>\n",
       "  </tbody>\n",
       "</table>\n",
       "</div>"
      ],
      "text/plain": [
       "        name       category              title  \\\n",
       "0  Joe Biden  Social Issues           Abortion   \n",
       "1  Joe Biden  Social Issues  Gender transition   \n",
       "2  Joe Biden  Social Issues        Hate Speech   \n",
       "\n",
       "                                            question stance reference  \\\n",
       "0          Do you support women's right to abortion?    Yes       NaN   \n",
       "1  Should people under the age of 18 years old be...    Yes       NaN   \n",
       "2  Should hate speech be protected by the first a...     No       NaN   \n",
       "\n",
       "    answer                                          reasoning  \\\n",
       "0      yes  Joe Biden has expressed clear support for a wo...   \n",
       "1      yes  Joe Biden has expressed support for transgende...   \n",
       "2  unknown  The provided context does not contain a direct...   \n",
       "\n",
       "                                            evidence  \\\n",
       "0  ['I would work to enshrine into federal law th...   \n",
       "1  [\"The fact of the matter is that we're in a po...   \n",
       "2                                                 []   \n",
       "\n",
       "                                      source_content  \\\n",
       "0  I would work to enshrine into federal law the ...   \n",
       "1  would be more expensive to treat if they had t...   \n",
       "2  [4:51] Former Vice President Joe Biden discuss...   \n",
       "\n",
       "                            source_category  \\\n",
       "0  Abortion, Pro-Life & Genetic Engineering   \n",
       "1                          Health & Medical   \n",
       "2              Crime, Police & Imprisonment   \n",
       "\n",
       "                   source_sub_category  cost  \n",
       "0                          Roe v. Wade     0  \n",
       "1  Medically Uninsured or Underinsured     0  \n",
       "2                          Hate Crimes     0  "
      ]
     },
     "execution_count": 2,
     "metadata": {},
     "output_type": "execute_result"
    }
   ],
   "source": [
    "import pandas as pd\n",
    "df = pd.read_excel(\"verify_result.xlsx\")\n",
    "df.head(3)"
   ]
  },
  {
   "cell_type": "code",
   "execution_count": 3,
   "metadata": {},
   "outputs": [
    {
     "name": "stdout",
     "output_type": "stream",
     "text": [
      "Genie Master initialized at: 2024-01-20 15:26:45.477758-05:00\n",
      "Genie is ready... True\n",
      "Document collection count... 45990\n"
     ]
    }
   ],
   "source": [
    "from genie_master import GenieMaster\n",
    "\n",
    "genie_db_path = \"./chroma_qadata_db/\"\n",
    "gm = GenieMaster(db_path=genie_db_path)\n",
    "print(\"Genie is ready...\", gm.model_is_ready())\n",
    "print(\"Document collection count...\", gm._document_count())"
   ]
  },
  {
   "cell_type": "markdown",
   "metadata": {},
   "source": [
    "# genie master eval"
   ]
  },
  {
   "cell_type": "code",
   "execution_count": 4,
   "metadata": {},
   "outputs": [
    {
     "data": {
      "text/html": [
       "<div>\n",
       "<style scoped>\n",
       "    .dataframe tbody tr th:only-of-type {\n",
       "        vertical-align: middle;\n",
       "    }\n",
       "\n",
       "    .dataframe tbody tr th {\n",
       "        vertical-align: top;\n",
       "    }\n",
       "\n",
       "    .dataframe thead th {\n",
       "        text-align: right;\n",
       "    }\n",
       "</style>\n",
       "<table border=\"1\" class=\"dataframe\">\n",
       "  <thead>\n",
       "    <tr style=\"text-align: right;\">\n",
       "      <th></th>\n",
       "      <th>name</th>\n",
       "      <th>question</th>\n",
       "    </tr>\n",
       "  </thead>\n",
       "  <tbody>\n",
       "    <tr>\n",
       "      <th>35</th>\n",
       "      <td>Joe Biden</td>\n",
       "      <td>Should the electoral college be abolished?</td>\n",
       "    </tr>\n",
       "    <tr>\n",
       "      <th>14</th>\n",
       "      <td>Joe Biden</td>\n",
       "      <td>Should the federal government pay for tuition ...</td>\n",
       "    </tr>\n",
       "    <tr>\n",
       "      <th>41</th>\n",
       "      <td>Joe Biden</td>\n",
       "      <td>Should the government give tax credits and sub...</td>\n",
       "    </tr>\n",
       "    <tr>\n",
       "      <th>37</th>\n",
       "      <td>Joe Biden</td>\n",
       "      <td>Should the government require children to be v...</td>\n",
       "    </tr>\n",
       "    <tr>\n",
       "      <th>40</th>\n",
       "      <td>Joe Biden</td>\n",
       "      <td>Should the U.S. expand offshore oil drilling?</td>\n",
       "    </tr>\n",
       "    <tr>\n",
       "      <th>44</th>\n",
       "      <td>Joe Biden</td>\n",
       "      <td>Do you support qualified immunity or police of...</td>\n",
       "    </tr>\n",
       "    <tr>\n",
       "      <th>38</th>\n",
       "      <td>Joe Biden</td>\n",
       "      <td>Do you support the use of nuclear energy?</td>\n",
       "    </tr>\n",
       "    <tr>\n",
       "      <th>46</th>\n",
       "      <td>Joe Biden</td>\n",
       "      <td>Should the government increase military spending?</td>\n",
       "    </tr>\n",
       "    <tr>\n",
       "      <th>2</th>\n",
       "      <td>Joe Biden</td>\n",
       "      <td>Should hate speech be protected by the first a...</td>\n",
       "    </tr>\n",
       "    <tr>\n",
       "      <th>42</th>\n",
       "      <td>Joe Biden</td>\n",
       "      <td>Should police officers be required to wear bod...</td>\n",
       "    </tr>\n",
       "  </tbody>\n",
       "</table>\n",
       "</div>"
      ],
      "text/plain": [
       "         name                                           question\n",
       "35  Joe Biden         Should the electoral college be abolished?\n",
       "14  Joe Biden  Should the federal government pay for tuition ...\n",
       "41  Joe Biden  Should the government give tax credits and sub...\n",
       "37  Joe Biden  Should the government require children to be v...\n",
       "40  Joe Biden      Should the U.S. expand offshore oil drilling?\n",
       "44  Joe Biden  Do you support qualified immunity or police of...\n",
       "38  Joe Biden          Do you support the use of nuclear energy?\n",
       "46  Joe Biden  Should the government increase military spending?\n",
       "2   Joe Biden  Should hate speech be protected by the first a...\n",
       "42  Joe Biden  Should police officers be required to wear bod..."
      ]
     },
     "execution_count": 4,
     "metadata": {},
     "output_type": "execute_result"
    }
   ],
   "source": [
    "df_data = df[['name', 'question']].sample(10)\n",
    "df_data"
   ]
  },
  {
   "cell_type": "code",
   "execution_count": 5,
   "metadata": {},
   "outputs": [
    {
     "name": "stdout",
     "output_type": "stream",
     "text": [
      "\u001b[1mEvaluating <Genie name=Joe Biden model=gpt-3.5-turbo-1106>\n",
      "Getting LLM response...\n",
      "evaluating with [faithfulness]\n"
     ]
    },
    {
     "name": "stderr",
     "output_type": "stream",
     "text": [
      "100%|██████████| 1/1 [00:28<00:00, 28.60s/it]\n"
     ]
    },
    {
     "name": "stdout",
     "output_type": "stream",
     "text": [
      "evaluating with [answer_relevancy]\n"
     ]
    },
    {
     "name": "stderr",
     "output_type": "stream",
     "text": [
      "100%|██████████| 1/1 [00:07<00:00,  7.51s/it]\n"
     ]
    },
    {
     "name": "stdout",
     "output_type": "stream",
     "text": [
      "evaluating with [context_relevancy]\n"
     ]
    },
    {
     "name": "stderr",
     "output_type": "stream",
     "text": [
      "100%|██████████| 1/1 [00:02<00:00,  2.22s/it]\n"
     ]
    },
    {
     "data": {
      "text/html": [
       "<div>\n",
       "<style scoped>\n",
       "    .dataframe tbody tr th:only-of-type {\n",
       "        vertical-align: middle;\n",
       "    }\n",
       "\n",
       "    .dataframe tbody tr th {\n",
       "        vertical-align: top;\n",
       "    }\n",
       "\n",
       "    .dataframe thead th {\n",
       "        text-align: right;\n",
       "    }\n",
       "</style>\n",
       "<table border=\"1\" class=\"dataframe\">\n",
       "  <thead>\n",
       "    <tr style=\"text-align: right;\">\n",
       "      <th></th>\n",
       "      <th>question</th>\n",
       "      <th>answer</th>\n",
       "      <th>contexts</th>\n",
       "      <th>faithfulness</th>\n",
       "      <th>answer_relevancy</th>\n",
       "      <th>context_relevancy</th>\n",
       "    </tr>\n",
       "  </thead>\n",
       "  <tbody>\n",
       "    <tr>\n",
       "      <th>0</th>\n",
       "      <td>Should the electoral college be abolished?</td>\n",
       "      <td>{\"answer\": \"unknown\", \"reasoning\": \"There is n...</td>\n",
       "      <td>[supports giving voting representation to the ...</td>\n",
       "      <td>0.000000</td>\n",
       "      <td>0.000000</td>\n",
       "      <td>0.636364</td>\n",
       "    </tr>\n",
       "    <tr>\n",
       "      <th>1</th>\n",
       "      <td>Should the federal government pay for tuition ...</td>\n",
       "      <td>{\"answer\": \"unknown\", \"reasoning\": \"There are ...</td>\n",
       "      <td>[to transfer these community college credits t...</td>\n",
       "      <td>0.000000</td>\n",
       "      <td>0.000000</td>\n",
       "      <td>0.555556</td>\n",
       "    </tr>\n",
       "    <tr>\n",
       "      <th>2</th>\n",
       "      <td>Should the government give tax credits and sub...</td>\n",
       "      <td>{\"answer\": \"yes\", \"reasoning\": \"Joe Biden has ...</td>\n",
       "      <td>[emissions.•\\tIncluded in the 2009 American Re...</td>\n",
       "      <td>1.000000</td>\n",
       "      <td>0.832500</td>\n",
       "      <td>0.600000</td>\n",
       "    </tr>\n",
       "    <tr>\n",
       "      <th>3</th>\n",
       "      <td>Should the government require children to be v...</td>\n",
       "      <td>{\"answer\": \"yes\", \"reasoning\": \"Joe Biden has ...</td>\n",
       "      <td>[children to buy in to the Medicaid program.ww...</td>\n",
       "      <td>1.000000</td>\n",
       "      <td>0.858189</td>\n",
       "      <td>0.000000</td>\n",
       "    </tr>\n",
       "    <tr>\n",
       "      <th>4</th>\n",
       "      <td>Should the U.S. expand offshore oil drilling?</td>\n",
       "      <td>{\"answer\": \"no\", \"reasoning\": \"Joe Biden has e...</td>\n",
       "      <td>[End offshore drillingwww.politico.com/2020-el...</td>\n",
       "      <td>1.000000</td>\n",
       "      <td>0.000000</td>\n",
       "      <td>0.571429</td>\n",
       "    </tr>\n",
       "    <tr>\n",
       "      <th>5</th>\n",
       "      <td>Do you support qualified immunity or police of...</td>\n",
       "      <td>{\"answer\": \"unknown\", \"reasoning\": \"There is n...</td>\n",
       "      <td>[When a police officer pins on that shield and...</td>\n",
       "      <td>0.666667</td>\n",
       "      <td>0.000000</td>\n",
       "      <td>0.000000</td>\n",
       "    </tr>\n",
       "    <tr>\n",
       "      <th>6</th>\n",
       "      <td>Do you support the use of nuclear energy?</td>\n",
       "      <td>{\"answer\": \"unknown\", \"reasoning\": \"The quotes...</td>\n",
       "      <td>[Identify the future of nuclear energy. To add...</td>\n",
       "      <td>0.000000</td>\n",
       "      <td>0.000000</td>\n",
       "      <td>0.333333</td>\n",
       "    </tr>\n",
       "    <tr>\n",
       "      <th>7</th>\n",
       "      <td>Should the government increase military spending?</td>\n",
       "      <td>{\"answer\": \"yes\", \"reasoning\": \"Joe Biden beli...</td>\n",
       "      <td>[Our military is one tool in our toolbox—along...</td>\n",
       "      <td>1.000000</td>\n",
       "      <td>0.877783</td>\n",
       "      <td>0.200000</td>\n",
       "    </tr>\n",
       "    <tr>\n",
       "      <th>8</th>\n",
       "      <td>Should hate speech be protected by the first a...</td>\n",
       "      <td>{\"answer\": \"no\", \"reasoning\": \"Joe Biden has c...</td>\n",
       "      <td>[[4:51] Former Vice President Joe Biden discus...</td>\n",
       "      <td>1.000000</td>\n",
       "      <td>0.859531</td>\n",
       "      <td>0.000000</td>\n",
       "    </tr>\n",
       "    <tr>\n",
       "      <th>9</th>\n",
       "      <td>Should police officers be required to wear bod...</td>\n",
       "      <td>{\"answer\": \"yes\", \"reasoning\": \"Joe Biden has ...</td>\n",
       "      <td>[When a police officer pins on that shield and...</td>\n",
       "      <td>0.750000</td>\n",
       "      <td>0.922346</td>\n",
       "      <td>0.000000</td>\n",
       "    </tr>\n",
       "  </tbody>\n",
       "</table>\n",
       "</div>"
      ],
      "text/plain": [
       "                                            question  \\\n",
       "0         Should the electoral college be abolished?   \n",
       "1  Should the federal government pay for tuition ...   \n",
       "2  Should the government give tax credits and sub...   \n",
       "3  Should the government require children to be v...   \n",
       "4      Should the U.S. expand offshore oil drilling?   \n",
       "5  Do you support qualified immunity or police of...   \n",
       "6          Do you support the use of nuclear energy?   \n",
       "7  Should the government increase military spending?   \n",
       "8  Should hate speech be protected by the first a...   \n",
       "9  Should police officers be required to wear bod...   \n",
       "\n",
       "                                              answer  \\\n",
       "0  {\"answer\": \"unknown\", \"reasoning\": \"There is n...   \n",
       "1  {\"answer\": \"unknown\", \"reasoning\": \"There are ...   \n",
       "2  {\"answer\": \"yes\", \"reasoning\": \"Joe Biden has ...   \n",
       "3  {\"answer\": \"yes\", \"reasoning\": \"Joe Biden has ...   \n",
       "4  {\"answer\": \"no\", \"reasoning\": \"Joe Biden has e...   \n",
       "5  {\"answer\": \"unknown\", \"reasoning\": \"There is n...   \n",
       "6  {\"answer\": \"unknown\", \"reasoning\": \"The quotes...   \n",
       "7  {\"answer\": \"yes\", \"reasoning\": \"Joe Biden beli...   \n",
       "8  {\"answer\": \"no\", \"reasoning\": \"Joe Biden has c...   \n",
       "9  {\"answer\": \"yes\", \"reasoning\": \"Joe Biden has ...   \n",
       "\n",
       "                                            contexts  faithfulness  \\\n",
       "0  [supports giving voting representation to the ...      0.000000   \n",
       "1  [to transfer these community college credits t...      0.000000   \n",
       "2  [emissions.•\\tIncluded in the 2009 American Re...      1.000000   \n",
       "3  [children to buy in to the Medicaid program.ww...      1.000000   \n",
       "4  [End offshore drillingwww.politico.com/2020-el...      1.000000   \n",
       "5  [When a police officer pins on that shield and...      0.666667   \n",
       "6  [Identify the future of nuclear energy. To add...      0.000000   \n",
       "7  [Our military is one tool in our toolbox—along...      1.000000   \n",
       "8  [[4:51] Former Vice President Joe Biden discus...      1.000000   \n",
       "9  [When a police officer pins on that shield and...      0.750000   \n",
       "\n",
       "   answer_relevancy  context_relevancy  \n",
       "0          0.000000           0.636364  \n",
       "1          0.000000           0.555556  \n",
       "2          0.832500           0.600000  \n",
       "3          0.858189           0.000000  \n",
       "4          0.000000           0.571429  \n",
       "5          0.000000           0.000000  \n",
       "6          0.000000           0.333333  \n",
       "7          0.877783           0.200000  \n",
       "8          0.859531           0.000000  \n",
       "9          0.922346           0.000000  "
      ]
     },
     "execution_count": 5,
     "metadata": {},
     "output_type": "execute_result"
    }
   ],
   "source": [
    "df_eval = gm.evaluate(df_data)\n",
    "df_eval.head(5)"
   ]
  },
  {
   "cell_type": "code",
   "execution_count": 6,
   "metadata": {},
   "outputs": [
    {
     "name": "stdout",
     "output_type": "stream",
     "text": [
      "Faithfulness: 0.6416666666666666\n",
      "Answer relevancy: 0.43503488205347535\n",
      "Context relevancy: 0.2896681096681097\n"
     ]
    }
   ],
   "source": [
    "faithfulness = df_eval['faithfulness'].sum() / df_eval.shape[0]\n",
    "answer_relevancy = df_eval['answer_relevancy'].sum() / df_eval.shape[0]\n",
    "context_relevancy = df_eval['context_relevancy'].sum() / df_eval.shape[0]\n",
    "\n",
    "print(\"Faithfulness:\", faithfulness)\n",
    "print(\"Answer relevancy:\", answer_relevancy)\n",
    "print(\"Context relevancy:\", context_relevancy)"
   ]
  },
  {
   "cell_type": "markdown",
   "metadata": {},
   "source": [
    "# old"
   ]
  },
  {
   "cell_type": "code",
   "execution_count": null,
   "metadata": {},
   "outputs": [],
   "source": [
    "name = \"Joe Biden\"\n",
    "genie = gm.get_genie(name)\n",
    "print(genie)"
   ]
  },
  {
   "cell_type": "code",
   "execution_count": null,
   "metadata": {},
   "outputs": [],
   "source": [
    "df_sample = df.sample(5)\n",
    "questions = df_sample.question.to_list()\n",
    "questions"
   ]
  },
  {
   "cell_type": "markdown",
   "metadata": {},
   "source": [
    "# new"
   ]
  },
  {
   "cell_type": "code",
   "execution_count": null,
   "metadata": {},
   "outputs": [],
   "source": [
    "eval = genie.evaluate(questions)\n",
    "eval"
   ]
  },
  {
   "cell_type": "code",
   "execution_count": null,
   "metadata": {},
   "outputs": [],
   "source": [
    "df_eval = eval.to_pandas()\n",
    "df_eval.head()"
   ]
  },
  {
   "cell_type": "markdown",
   "metadata": {},
   "source": [
    "# old"
   ]
  },
  {
   "cell_type": "code",
   "execution_count": null,
   "metadata": {},
   "outputs": [],
   "source": [
    "base_batch_result = genie.base_batch_ask(questions)\n",
    "base_batch_result"
   ]
  },
  {
   "cell_type": "code",
   "execution_count": null,
   "metadata": {},
   "outputs": [],
   "source": [
    "df_result = pd.DataFrame(base_batch_result)\n",
    "df_result[\"answer\"] = df_result[\"result\"].apply(lambda x: json.dumps(x))\n",
    "df_result[\"contexts\"] = df_result[\"context\"].apply(lambda docs: [doc.page_content for doc in docs])\n",
    "df_result = df_result[[\"question\", \"answer\", \"contexts\"]]\n",
    "df_result"
   ]
  },
  {
   "cell_type": "code",
   "execution_count": null,
   "metadata": {},
   "outputs": [],
   "source": [
    "dataset = Dataset.from_pandas(df_result)\n",
    "dataset"
   ]
  },
  {
   "cell_type": "code",
   "execution_count": null,
   "metadata": {},
   "outputs": [],
   "source": [
    "from ragas.metrics import (\n",
    "    answer_relevancy,\n",
    "    faithfulness,\n",
    "    context_recall,\n",
    "    context_precision,\n",
    ")"
   ]
  },
  {
   "cell_type": "code",
   "execution_count": null,
   "metadata": {},
   "outputs": [],
   "source": [
    "from ragas import evaluate\n",
    "\n",
    "result = evaluate(\n",
    "    dataset.select(range(2)),\n",
    "    metrics = [\n",
    "        context_precision,\n",
    "        faithfulness,\n",
    "        answer_relevancy,\n",
    "        # context_recall\n",
    "    ]\n",
    ")\n",
    "result"
   ]
  },
  {
   "cell_type": "markdown",
   "metadata": {},
   "source": [
    "# Part 2"
   ]
  }
 ],
 "metadata": {
  "kernelspec": {
   "display_name": "uslong",
   "language": "python",
   "name": "python3"
  },
  "language_info": {
   "codemirror_mode": {
    "name": "ipython",
    "version": 3
   },
   "file_extension": ".py",
   "mimetype": "text/x-python",
   "name": "python",
   "nbconvert_exporter": "python",
   "pygments_lexer": "ipython3",
   "version": "3.10.11"
  }
 },
 "nbformat": 4,
 "nbformat_minor": 2
}
