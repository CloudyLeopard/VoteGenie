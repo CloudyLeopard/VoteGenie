{
 "cells": [
  {
   "cell_type": "markdown",
   "metadata": {},
   "source": [
    "# Prep DF If needed"
   ]
  },
  {
   "cell_type": "code",
   "execution_count": null,
   "metadata": {},
   "outputs": [],
   "source": [
    "%%script false --no-raise-error\n",
    "\n",
    "# Loading in Data (skip this cell if already done)\n",
    "import re\n",
    "import pandas as pd\n",
    "\n",
    "def preprocess_quote(quote):\n",
    "    # Replace missing spaces with space\n",
    "    preprocessed_quote = re.sub(r\"(?<=[a-z])(?=[A-Z])\", \" \", quote)\n",
    "\n",
    "    # ...\n",
    "    # add more if necessary\n",
    "\n",
    "    return preprocessed_quote\n",
    "\n",
    "df = pd.read_excel(\"data/qadata.xlsx\")\n",
    "df[[\"name\", \"party\"]] = df.username.str.split(\" - \", expand=True).apply(\n",
    "    lambda x: x.str.strip()\n",
    ")\n",
    "df = df.drop([\"username\"], axis=1)\n",
    "\n",
    "df[\"answer\"] = df[\"answer\"].apply(preprocess_quote)\n",
    "\n",
    "# removing None values in \"party\"\n",
    "df[\"party\"] = df[\"party\"].apply(lambda p: p if p else \"Other\")\n",
    "df['name'] = df.name.str.replace('&quot;', '\"')\n",
    "df.to_pickle(\"./data/mod_qadata\")\n",
    "df.to_excel(\"./data/mod_qadata.xlsx\", index=False)\n",
    "df.sample(5)"
   ]
  },
  {
   "cell_type": "markdown",
   "metadata": {},
   "source": [
    "# Do Stuff"
   ]
  },
  {
   "cell_type": "code",
   "execution_count": null,
   "metadata": {},
   "outputs": [],
   "source": [
    "import os\n",
    "if not os.path.exists(\"./chroma_qadata_db\"):\n",
    "    !unzip chroma_qadata_db.zip"
   ]
  },
  {
   "cell_type": "code",
   "execution_count": 1,
   "metadata": {},
   "outputs": [
    {
     "name": "stdout",
     "output_type": "stream",
     "text": [
      "# of people: 4281\n"
     ]
    },
    {
     "data": {
      "text/html": [
       "<div>\n",
       "<style scoped>\n",
       "    .dataframe tbody tr th:only-of-type {\n",
       "        vertical-align: middle;\n",
       "    }\n",
       "\n",
       "    .dataframe tbody tr th {\n",
       "        vertical-align: top;\n",
       "    }\n",
       "\n",
       "    .dataframe thead th {\n",
       "        text-align: right;\n",
       "    }\n",
       "</style>\n",
       "<table border=\"1\" class=\"dataframe\">\n",
       "  <thead>\n",
       "    <tr style=\"text-align: right;\">\n",
       "      <th></th>\n",
       "      <th>name</th>\n",
       "      <th>party</th>\n",
       "      <th>usertitle</th>\n",
       "    </tr>\n",
       "  </thead>\n",
       "  <tbody>\n",
       "    <tr>\n",
       "      <th>32546</th>\n",
       "      <td>Angie Chen Button</td>\n",
       "      <td>R</td>\n",
       "      <td>State Representative District 112</td>\n",
       "    </tr>\n",
       "    <tr>\n",
       "      <th>36242</th>\n",
       "      <td>Bob Hasegawa</td>\n",
       "      <td>D</td>\n",
       "      <td>State Senator District 11</td>\n",
       "    </tr>\n",
       "    <tr>\n",
       "      <th>30087</th>\n",
       "      <td>Jessica Castleberry</td>\n",
       "      <td>R</td>\n",
       "      <td>State Senator District 35</td>\n",
       "    </tr>\n",
       "  </tbody>\n",
       "</table>\n",
       "</div>"
      ],
      "text/plain": [
       "                      name party                          usertitle\n",
       "32546    Angie Chen Button     R  State Representative District 112\n",
       "36242         Bob Hasegawa     D          State Senator District 11\n",
       "30087  Jessica Castleberry     R          State Senator District 35"
      ]
     },
     "execution_count": 1,
     "metadata": {},
     "output_type": "execute_result"
    }
   ],
   "source": [
    "import pandas as pd\n",
    "import os\n",
    "\n",
    "from vote_easy_genie_lib import *\n",
    "\n",
    "US_STATES = [\n",
    "    \"Alabama\", \"Alaska\", \"Arizona\", \"Arkansas\", \"California\", \"Colorado\", \"Connecticut\", \"Delaware\",\n",
    "    \"Florida\", \"Georgia\", \"Hawaii\", \"Idaho\", \"Illinois\", \"Indiana\", \"Iowa\", \"Kansas\", \"Kentucky\",\n",
    "    \"Louisiana\", \"Maine\", \"Maryland\", \"Massachusetts\", \"Michigan\", \"Minnesota\", \"Mississippi\",\n",
    "    \"Missouri\", \"Montana\", \"Nebraska\", \"Nevada\", \"New Hampshire\", \"New Jersey\", \"New Mexico\",\n",
    "    \"New York\", \"North Carolina\", \"North Dakota\", \"Ohio\", \"Oklahoma\", \"Oregon\", \"Pennsylvania\",\n",
    "    \"Rhode Island\", \"South Carolina\", \"South Dakota\", \"Tennessee\", \"Texas\", \"Utah\", \"Vermont\",\n",
    "    \"Virginia\", \"Washington\", \"West Virginia\", \"Wisconsin\", \"Wyoming\"\n",
    "]\n",
    "\n",
    "vectorstore_path = \"./chroma_qadata_db\"\n",
    "\n",
    "if os.path.exists(\"./data/all_people\"):\n",
    "    df_people = pd.read_pickle(\"./data/all_people\")\n",
    "else:\n",
    "    df = pd.read_pickle(\"./data/mod_qadata\")\n",
    "    df_people = df.drop_duplicates(subset='name')[['name', 'party', 'usertitle']]\n",
    "print(\"# of people:\", df_people.shape[0])\n",
    "df_people.sample(3)"
   ]
  },
  {
   "cell_type": "markdown",
   "metadata": {},
   "source": [
    "# Questions"
   ]
  },
  {
   "cell_type": "code",
   "execution_count": 2,
   "metadata": {},
   "outputs": [],
   "source": [
    "questions = [\n",
    "    \"Should the government reduce spending on medicare or social security programs?\", # social security and medicare\n",
    "    \"Should the government forgive student loan?\", # education\n",
    "    \"Should the government regulate what is being taught in school?\", # education\n",
    "    \"Should abortion be legal?\", # abortion\n",
    "    \"Should there be stricter gun control laws?\", # gun control\n",
    "    \"Should the U.S. government maintain and possibly expand spending on foreign aid?\", # foreign policy\n",
    "    \"Should there be stricter border control measures?\", # immigration\n",
    "    \"Should LGBTQ issues be included in school curricula?\", # LGBTQ, education\n",
    "    \"Do you support transgender individuals' access to gender-affirming healthcare?\", # LGBTQ\n",
    "    \"Do you support qualified immunity for police officers?\", # crime\n",
    "]"
   ]
  },
  {
   "cell_type": "markdown",
   "metadata": {},
   "source": [
    "# Senators"
   ]
  },
  {
   "cell_type": "code",
   "execution_count": 10,
   "metadata": {},
   "outputs": [
    {
     "name": "stdout",
     "output_type": "stream",
     "text": [
      "95\n"
     ]
    },
    {
     "data": {
      "text/html": [
       "<div>\n",
       "<style scoped>\n",
       "    .dataframe tbody tr th:only-of-type {\n",
       "        vertical-align: middle;\n",
       "    }\n",
       "\n",
       "    .dataframe tbody tr th {\n",
       "        vertical-align: top;\n",
       "    }\n",
       "\n",
       "    .dataframe thead th {\n",
       "        text-align: right;\n",
       "    }\n",
       "</style>\n",
       "<table border=\"1\" class=\"dataframe\">\n",
       "  <thead>\n",
       "    <tr style=\"text-align: right;\">\n",
       "      <th></th>\n",
       "      <th>name</th>\n",
       "      <th>party</th>\n",
       "      <th>usertitle</th>\n",
       "    </tr>\n",
       "  </thead>\n",
       "  <tbody>\n",
       "    <tr>\n",
       "      <th>661</th>\n",
       "      <td>Katie Britt</td>\n",
       "      <td>R</td>\n",
       "      <td>Alabama Senator</td>\n",
       "    </tr>\n",
       "    <tr>\n",
       "      <th>1126</th>\n",
       "      <td>Lisa Murkowski</td>\n",
       "      <td>R</td>\n",
       "      <td>Alaska Senator</td>\n",
       "    </tr>\n",
       "    <tr>\n",
       "      <th>1249</th>\n",
       "      <td>Dan Sullivan</td>\n",
       "      <td>R</td>\n",
       "      <td>Alaska Senator</td>\n",
       "    </tr>\n",
       "    <tr>\n",
       "      <th>1411</th>\n",
       "      <td>Mark Kelly</td>\n",
       "      <td>D</td>\n",
       "      <td>Arizona Senator</td>\n",
       "    </tr>\n",
       "    <tr>\n",
       "      <th>1416</th>\n",
       "      <td>Kyrsten Sinema</td>\n",
       "      <td>D</td>\n",
       "      <td>Arizona Senator</td>\n",
       "    </tr>\n",
       "  </tbody>\n",
       "</table>\n",
       "</div>"
      ],
      "text/plain": [
       "                name party        usertitle\n",
       "661      Katie Britt     R  Alabama Senator\n",
       "1126  Lisa Murkowski     R   Alaska Senator\n",
       "1249    Dan Sullivan     R   Alaska Senator\n",
       "1411      Mark Kelly     D  Arizona Senator\n",
       "1416  Kyrsten Sinema     D  Arizona Senator"
      ]
     },
     "execution_count": 10,
     "metadata": {},
     "output_type": "execute_result"
    }
   ],
   "source": [
    "pattern = r'^(?i)(' + '|'.join(US_STATES) + r')\\s+senator$'\n",
    "\n",
    "# Filter rows with values that match the pattern\n",
    "df_senators = df_people[df_people['usertitle'].str.match(pattern, na=False)]\n",
    "\n",
    "print(df_senators.shape[0])\n",
    "df_senators.iloc[:5]"
   ]
  },
  {
   "cell_type": "code",
   "execution_count": 6,
   "metadata": {},
   "outputs": [],
   "source": [
    "model_name=\"gpt-3.5-turbo\"\n",
    "output_csv = \"./result/senator.csv\"\n",
    "output_xlsx=\"./result/senator.xlsx\"\n",
    "questions = questions[:2]"
   ]
  },
  {
   "cell_type": "code",
   "execution_count": 8,
   "metadata": {},
   "outputs": [
    {
     "name": "stdout",
     "output_type": "stream",
     "text": [
      "Number of rows to be processed: 10\n",
      "Estimated cost: $0.016\n",
      "Genie Master initialized at: 2023-08-28 02:52:07.868325-04:00\n"
     ]
    },
    {
     "name": "stderr",
     "output_type": "stream",
     "text": [
      "Processing batches (101 rows per batch): 100%|██████████| 1/1 [00:07<00:00,  7.74s/it]"
     ]
    },
    {
     "name": "stdout",
     "output_type": "stream",
     "text": [
      "Cost exceeded 0.01: 0.0111\n",
      "Total cost: 0.0110545\n"
     ]
    },
    {
     "name": "stderr",
     "output_type": "stream",
     "text": [
      "\n"
     ]
    },
    {
     "data": {
      "text/html": [
       "<div>\n",
       "<style scoped>\n",
       "    .dataframe tbody tr th:only-of-type {\n",
       "        vertical-align: middle;\n",
       "    }\n",
       "\n",
       "    .dataframe tbody tr th {\n",
       "        vertical-align: top;\n",
       "    }\n",
       "\n",
       "    .dataframe thead th {\n",
       "        text-align: right;\n",
       "    }\n",
       "</style>\n",
       "<table border=\"1\" class=\"dataframe\">\n",
       "  <thead>\n",
       "    <tr style=\"text-align: right;\">\n",
       "      <th></th>\n",
       "      <th>name</th>\n",
       "      <th>party</th>\n",
       "      <th>usertitle</th>\n",
       "      <th>question</th>\n",
       "      <th>answer</th>\n",
       "      <th>reasoning</th>\n",
       "      <th>evidence</th>\n",
       "      <th>source_content</th>\n",
       "      <th>source_category</th>\n",
       "      <th>source_sub_category</th>\n",
       "      <th>cost</th>\n",
       "    </tr>\n",
       "  </thead>\n",
       "  <tbody>\n",
       "    <tr>\n",
       "      <th>0</th>\n",
       "      <td>Richard Durbin</td>\n",
       "      <td>D</td>\n",
       "      <td>Illinois Senator</td>\n",
       "      <td>should the government reduce spending on medic...</td>\n",
       "      <td>no</td>\n",
       "      <td>Richard Durbin opposes efforts to privatize So...</td>\n",
       "      <td>[I have opposed efforts to partially privatize...</td>\n",
       "      <td>I have opposed efforts to partially privatize ...</td>\n",
       "      <td>Seniors, Social Security, Medicare, Pensions</td>\n",
       "      <td>Privatizing Social Security</td>\n",
       "      <td>0.001277</td>\n",
       "    </tr>\n",
       "    <tr>\n",
       "      <th>1</th>\n",
       "      <td>Richard Durbin</td>\n",
       "      <td>D</td>\n",
       "      <td>Illinois Senator</td>\n",
       "      <td>should the government forgive student loan?</td>\n",
       "      <td>unknown</td>\n",
       "      <td>Based on the given context, it is unclear whet...</td>\n",
       "      <td>[Richard Durbin has advocated for lowering stu...</td>\n",
       "      <td>that all students can receive a college educat...</td>\n",
       "      <td>Education &amp; Schools</td>\n",
       "      <td>Higher Education</td>\n",
       "      <td>0.001231</td>\n",
       "    </tr>\n",
       "    <tr>\n",
       "      <th>2</th>\n",
       "      <td>Edward J. Markey</td>\n",
       "      <td>D</td>\n",
       "      <td>Massachusetts Senator</td>\n",
       "      <td>should the government reduce spending on medic...</td>\n",
       "      <td>no</td>\n",
       "      <td>Edward J. Markey believes that we must fight a...</td>\n",
       "      <td>[In addition to providing affordable health ca...</td>\n",
       "      <td>the middle class in history. The massive benef...</td>\n",
       "      <td>Seniors, Social Security, Medicare, Pensions</td>\n",
       "      <td>Privatizing Social Security</td>\n",
       "      <td>0.001309</td>\n",
       "    </tr>\n",
       "  </tbody>\n",
       "</table>\n",
       "</div>"
      ],
      "text/plain": [
       "               name party              usertitle  \\\n",
       "0    Richard Durbin     D       Illinois Senator   \n",
       "1    Richard Durbin     D       Illinois Senator   \n",
       "2  Edward J. Markey     D  Massachusetts Senator   \n",
       "\n",
       "                                            question   answer  \\\n",
       "0  should the government reduce spending on medic...       no   \n",
       "1        should the government forgive student loan?  unknown   \n",
       "2  should the government reduce spending on medic...       no   \n",
       "\n",
       "                                           reasoning  \\\n",
       "0  Richard Durbin opposes efforts to privatize So...   \n",
       "1  Based on the given context, it is unclear whet...   \n",
       "2  Edward J. Markey believes that we must fight a...   \n",
       "\n",
       "                                            evidence  \\\n",
       "0  [I have opposed efforts to partially privatize...   \n",
       "1  [Richard Durbin has advocated for lowering stu...   \n",
       "2  [In addition to providing affordable health ca...   \n",
       "\n",
       "                                      source_content  \\\n",
       "0  I have opposed efforts to partially privatize ...   \n",
       "1  that all students can receive a college educat...   \n",
       "2  the middle class in history. The massive benef...   \n",
       "\n",
       "                                source_category          source_sub_category  \\\n",
       "0  Seniors, Social Security, Medicare, Pensions  Privatizing Social Security   \n",
       "1                           Education & Schools             Higher Education   \n",
       "2  Seniors, Social Security, Medicare, Pensions  Privatizing Social Security   \n",
       "\n",
       "       cost  \n",
       "0  0.001277  \n",
       "1  0.001231  \n",
       "2  0.001309  "
      ]
     },
     "execution_count": 8,
     "metadata": {},
     "output_type": "execute_result"
    }
   ],
   "source": [
    "df_prompts = get_df_prompts(df_senators, questions)\n",
    "df_results = await get_df_results(df_prompts, vectorstore_path, output_csv, output_xlsx, model_name)\n",
    "df_results.iloc[:3]"
   ]
  },
  {
   "cell_type": "markdown",
   "metadata": {},
   "source": [
    "### clean up leftovers"
   ]
  },
  {
   "cell_type": "code",
   "execution_count": null,
   "metadata": {},
   "outputs": [],
   "source": [
    "df_finished_prompts = pd.read_csv(\"result/senators_08_26.csv\", header=None)\n",
    "df_finished_prompts.columns = get_result_column_names()\n",
    "print(\"Finished rows number:\", df_finished_prompts.shape[0])"
   ]
  },
  {
   "cell_type": "code",
   "execution_count": 11,
   "metadata": {},
   "outputs": [
    {
     "name": "stdout",
     "output_type": "stream",
     "text": [
      "120\n"
     ]
    },
    {
     "data": {
      "text/html": [
       "<div>\n",
       "<style scoped>\n",
       "    .dataframe tbody tr th:only-of-type {\n",
       "        vertical-align: middle;\n",
       "    }\n",
       "\n",
       "    .dataframe tbody tr th {\n",
       "        vertical-align: top;\n",
       "    }\n",
       "\n",
       "    .dataframe thead th {\n",
       "        text-align: right;\n",
       "    }\n",
       "</style>\n",
       "<table border=\"1\" class=\"dataframe\">\n",
       "  <thead>\n",
       "    <tr style=\"text-align: right;\">\n",
       "      <th></th>\n",
       "      <th>name</th>\n",
       "      <th>party</th>\n",
       "      <th>usertitle</th>\n",
       "      <th>question</th>\n",
       "    </tr>\n",
       "  </thead>\n",
       "  <tbody>\n",
       "    <tr>\n",
       "      <th>1</th>\n",
       "      <td>Katie Britt</td>\n",
       "      <td>R</td>\n",
       "      <td>Alabama Senator</td>\n",
       "      <td>should the government forgive student loan?</td>\n",
       "    </tr>\n",
       "    <tr>\n",
       "      <th>2</th>\n",
       "      <td>Lisa Murkowski</td>\n",
       "      <td>R</td>\n",
       "      <td>Alaska Senator</td>\n",
       "      <td>should the government reduce spending on medic...</td>\n",
       "    </tr>\n",
       "    <tr>\n",
       "      <th>3</th>\n",
       "      <td>Lisa Murkowski</td>\n",
       "      <td>R</td>\n",
       "      <td>Alaska Senator</td>\n",
       "      <td>should the government forgive student loan?</td>\n",
       "    </tr>\n",
       "  </tbody>\n",
       "</table>\n",
       "</div>"
      ],
      "text/plain": [
       "             name party        usertitle  \\\n",
       "1     Katie Britt     R  Alabama Senator   \n",
       "2  Lisa Murkowski     R   Alaska Senator   \n",
       "3  Lisa Murkowski     R   Alaska Senator   \n",
       "\n",
       "                                            question  \n",
       "1        should the government forgive student loan?  \n",
       "2  should the government reduce spending on medic...  \n",
       "3        should the government forgive student loan?  "
      ]
     },
     "execution_count": 11,
     "metadata": {},
     "output_type": "execute_result"
    }
   ],
   "source": [
    "df_prompts = get_df_prompts(df_senators, questions)\n",
    "df_remaining = get_df_remaining_prompts(df_prompts, df_finished_prompts)\n",
    "print(\"Remaining rows number:\", df_remaining.shape[0])\n",
    "df_results = await get_df_results(df_remaining, vectorstore_path, output_csv, output_xlsx, model_name)"
   ]
  },
  {
   "cell_type": "markdown",
   "metadata": {},
   "source": [
    "# Congress"
   ]
  },
  {
   "cell_type": "markdown",
   "metadata": {},
   "source": [
    "# Governor"
   ]
  },
  {
   "cell_type": "markdown",
   "metadata": {},
   "source": [
    "# "
   ]
  },
  {
   "cell_type": "markdown",
   "metadata": {},
   "source": [
    "# Delete Database to save space"
   ]
  },
  {
   "cell_type": "code",
   "execution_count": null,
   "metadata": {},
   "outputs": [],
   "source": [
    "!rm -rf ./chroma_qadata_db"
   ]
  }
 ],
 "metadata": {
  "kernelspec": {
   "display_name": "uslong",
   "language": "python",
   "name": "python3"
  },
  "language_info": {
   "codemirror_mode": {
    "name": "ipython",
    "version": 3
   },
   "file_extension": ".py",
   "mimetype": "text/x-python",
   "name": "python",
   "nbconvert_exporter": "python",
   "pygments_lexer": "ipython3",
   "version": "3.10.11"
  },
  "orig_nbformat": 4
 },
 "nbformat": 4,
 "nbformat_minor": 2
}
